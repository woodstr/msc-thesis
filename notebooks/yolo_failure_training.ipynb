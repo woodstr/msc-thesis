{
 "cells": [
  {
   "cell_type": "markdown",
   "metadata": {},
   "source": [
    "# Setup\n",
    "## Imports"
   ]
  },
  {
   "cell_type": "code",
   "execution_count": null,
   "metadata": {},
   "outputs": [],
   "source": [
    "from ultralytics import YOLO\n",
    "import os\n",
    "import shutil\n",
    "import random"
   ]
  },
  {
   "cell_type": "markdown",
   "metadata": {},
   "source": [
    "## Shuffling in Validation"
   ]
  },
  {
   "cell_type": "code",
   "execution_count": null,
   "metadata": {},
   "outputs": [],
   "source": [
    "# Get train images and labels\n",
    "train = os.listdir('../data/hourglass_localization_rectification/yolo_failures/train/images')\n",
    "\n",
    "# Move random 20% of them to validation set\n",
    "val = random.sample(train, int(len(train) * 0.2))\n",
    "for file in val:\n",
    "    # Move image\n",
    "    src = os.path.join('../data/hourglass_localization_rectification/yolo_failures/train/images', file)\n",
    "    dst = os.path.join('../data/hourglass_localization_rectification/yolo_failures/val/images', file)\n",
    "    shutil.move(src, dst)\n",
    "\n",
    "    # Move label\n",
    "    src = os.path.join('../data/hourglass_localization_rectification/yolo_failures/train/labels', file.replace('.jpg', '.txt'))\n",
    "    dst = os.path.join('../data/hourglass_localization_rectification/yolo_failures/val/labels', file.replace('.jpg', '.txt'))\n",
    "    shutil.move(src, dst)"
   ]
  },
  {
   "cell_type": "markdown",
   "metadata": {},
   "source": [
    "# Training"
   ]
  },
  {
   "cell_type": "code",
   "execution_count": null,
   "metadata": {},
   "outputs": [],
   "source": [
    "# Find latest \"trainXX\" folder\n",
    "model_to_train = [d.replace('train', '') for d in os.listdir('../yolo/runs/obb') if d.startswith('train')]\n",
    "model_to_train.remove('') # remove empty string\n",
    "model_to_train = sorted(model_to_train, key=int)[-1] # get the latest one\n",
    "print(f'Training from train{model_to_train}')\n",
    "\n",
    "model = YOLO(f'../yolo/runs/obb/train{model_to_train}/weights/best.pt') # load best model from training"
   ]
  },
  {
   "cell_type": "code",
   "execution_count": null,
   "metadata": {},
   "outputs": [],
   "source": [
    "results = model.train(\n",
    "    data='../data/hourglass_localization_rectification/yolo_failures/data.yaml',\n",
    "    time=24,                              # Max training time in hours\n",
    "    imgsz=640,                            # Image size for training (default for YOLO is 640x640)\n",
    "    patience=10,                          # Early stopping patience (after this many epochs with no improvement stop training)\n",
    "    pretrained=False,                      # Don't pre-trained weights (use the latest model)\n",
    "    plots=True,                           # Create plots\n",
    "\n",
    "    workers=8,                            # Number of worker threads for data loading\n",
    "    batch = 16,                           # Batch size\n",
    ")"
   ]
  }
 ],
 "metadata": {
  "kernelspec": {
   "display_name": "msc_thesis",
   "language": "python",
   "name": "python3"
  },
  "language_info": {
   "codemirror_mode": {
    "name": "ipython",
    "version": 3
   },
   "file_extension": ".py",
   "mimetype": "text/x-python",
   "name": "python",
   "nbconvert_exporter": "python",
   "pygments_lexer": "ipython3",
   "version": "3.9.21"
  }
 },
 "nbformat": 4,
 "nbformat_minor": 2
}
