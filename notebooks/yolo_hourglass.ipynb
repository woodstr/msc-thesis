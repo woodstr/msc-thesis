{
 "cells": [
  {
   "cell_type": "markdown",
   "metadata": {},
   "source": [
    "# Setup\n",
    "## Imports"
   ]
  },
  {
   "cell_type": "code",
   "execution_count": null,
   "metadata": {},
   "outputs": [],
   "source": [
    "# Standard Python libraries\n",
    "import sys\n",
    "import random\n",
    "import string\n",
    "import os\n",
    "import math\n",
    "\n",
    "from ultralytics import YOLO\n",
    "\n",
    "# Third party libraries\n",
    "from pylibdmtx.pylibdmtx import encode\n",
    "from PIL import Image, ImageFont, ImageDraw\n",
    "import numpy as np\n",
    "import cv2\n",
    "import matplotlib.pyplot as plt\n",
    "import torch.nn as nn\n",
    "import torch.nn.functional as F\n",
    "from torch.utils.data import Dataset, DataLoader\n",
    "from torchvision.transforms import v2\n",
    "import torch\n",
    "device = torch.device('cuda' if torch.cuda.is_available() else 'cpu')\n",
    "print(device)\n",
    "\n",
    "# Custom funcs\n",
    "sys.path.append('../scripts')\n",
    "from hourglass import *"
   ]
  },
  {
   "cell_type": "markdown",
   "metadata": {},
   "source": [
    "## YOLO setup"
   ]
  },
  {
   "cell_type": "code",
   "execution_count": null,
   "metadata": {},
   "outputs": [],
   "source": [
    "YOLO_model = YOLO(f'../yolo/runs/obb/train8/weights/best.pt') # load best model from training\n",
    "YOLO_model.eval() # Set the model to evaluation mode"
   ]
  },
  {
   "cell_type": "markdown",
   "metadata": {},
   "source": [
    "## Hourglass setup"
   ]
  },
  {
   "cell_type": "code",
   "execution_count": null,
   "metadata": {},
   "outputs": [],
   "source": [
    "input_size = 256 # Input image size for model\n",
    "output_size = 64 # Output heatmap size for model\n",
    "n_stacks = 8     # Number of stacks in hourglass model\n",
    "\n",
    "sigma = 1        # Gaussian distribution (spread) for heatmap generation\n",
    "\n",
    "n_train = 800    # Number of training samples\n",
    "n_val = 100      # Number of validation samples\n",
    "n_test = 100     # Number of test samples\n",
    "\n",
    "batch_size = 1   # Batch size for training\n",
    "\n",
    "max_complex_epoch = 150 # Number of epochs where complex data is used\n",
    "\n",
    "# Calculating weight for loss function\n",
    "# pixels_per_gauss = (5 + 7 + (9*5) + 7 + 5) * 4 # Circles are built from vertical pixels of 5, 7, 9, 9, 9, 9, 9, 7, 5 (and there are 4 of them)\n",
    "pixels_per_gauss = (3 + 5 + 5 + 5 + 3) * 4 # Circles are built from vertical pixels of 3, 5, 5, 5, 3\n",
    "pixels_total = output_size*output_size\n",
    "weight = (pixels_total - pixels_per_gauss) / pixels_per_gauss\n",
    "print(weight) # There are this many times more background pixels than gaussian pixels\n",
    "\n",
    "reset_synth = True # Set to True to regenerate synthetic data"
   ]
  },
  {
   "cell_type": "markdown",
   "metadata": {},
   "source": [
    "# Hourglass Training"
   ]
  },
  {
   "cell_type": "code",
   "execution_count": null,
   "metadata": {},
   "outputs": [],
   "source": []
  }
 ],
 "metadata": {
  "kernelspec": {
   "display_name": "msc_thesis",
   "language": "python",
   "name": "python3"
  },
  "language_info": {
   "codemirror_mode": {
    "name": "ipython",
    "version": 3
   },
   "file_extension": ".py",
   "mimetype": "text/x-python",
   "name": "python",
   "nbconvert_exporter": "python",
   "pygments_lexer": "ipython3",
   "version": "3.9.21"
  }
 },
 "nbformat": 4,
 "nbformat_minor": 2
}
