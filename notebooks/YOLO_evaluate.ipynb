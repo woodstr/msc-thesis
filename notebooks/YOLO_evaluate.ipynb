{
 "cells": [
  {
   "cell_type": "markdown",
   "id": "8feee5a2",
   "metadata": {},
   "source": [
    "# Setup"
   ]
  },
  {
   "cell_type": "code",
   "execution_count": null,
   "id": "73348ac2",
   "metadata": {},
   "outputs": [],
   "source": [
    "from ultralytics import YOLO"
   ]
  },
  {
   "cell_type": "code",
   "execution_count": null,
   "id": "1f5b2b36",
   "metadata": {},
   "outputs": [],
   "source": [
    "def eval_YOLO(model_path, yaml_path):\n",
    "    '''\n",
    "    Evaluates the YOLO model on the dataset specified in the YAML file.\n",
    "\n",
    "    Args:\n",
    "        model (YOLO): The YOLO model to evaluate.\n",
    "        yaml_path (str): Path to the YAML file containing dataset information.\n",
    "    '''\n",
    "    model = YOLO(model_path)  # Load the model\n",
    "    model.fuse()  # Fuse the model layers for faster inference\n",
    "    results = model.val(data=yaml_path, save_json=True, save_txt=True, plots=True)\n",
    "    print(f\"Results: {results}\")"
   ]
  },
  {
   "cell_type": "markdown",
   "id": "b6a6c90a",
   "metadata": {},
   "source": [
    "# Train"
   ]
  },
  {
   "cell_type": "code",
   "execution_count": null,
   "id": "f3ed0186",
   "metadata": {},
   "outputs": [],
   "source": [
    "yolo_path = '../yolo/runs/obb/train7/weights/best.pt'\n",
    "yaml_path = '../data/MAN/roboflow_oriented_boxes/scores_train.yaml'\n",
    "eval_YOLO(yolo_path, yaml_path)"
   ]
  },
  {
   "cell_type": "markdown",
   "id": "45341adb",
   "metadata": {},
   "source": [
    "# Validation"
   ]
  },
  {
   "cell_type": "code",
   "execution_count": null,
   "id": "d435be6f",
   "metadata": {},
   "outputs": [],
   "source": [
    "yolo_path = '../yolo/runs/obb/train7/weights/best.pt'\n",
    "yaml_path = '../data/MAN/roboflow_oriented_boxes/scores_val.yaml'\n",
    "eval_YOLO(yolo_path, yaml_path)"
   ]
  },
  {
   "cell_type": "markdown",
   "id": "83952032",
   "metadata": {},
   "source": [
    "# Test"
   ]
  },
  {
   "cell_type": "code",
   "execution_count": null,
   "id": "1db4a083",
   "metadata": {},
   "outputs": [],
   "source": [
    "yolo_path = '../yolo/runs/obb/train7/weights/best.pt'\n",
    "yaml_path = '../data/MAN/roboflow_oriented_boxes/scores_test.yaml'\n",
    "eval_YOLO(yolo_path, yaml_path)"
   ]
  }
 ],
 "metadata": {
  "kernelspec": {
   "display_name": "msc_thesis",
   "language": "python",
   "name": "python3"
  },
  "language_info": {
   "codemirror_mode": {
    "name": "ipython",
    "version": 3
   },
   "file_extension": ".py",
   "mimetype": "text/x-python",
   "name": "python",
   "nbconvert_exporter": "python",
   "pygments_lexer": "ipython3",
   "version": "3.9.21"
  }
 },
 "nbformat": 4,
 "nbformat_minor": 5
}
