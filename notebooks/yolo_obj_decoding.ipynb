{
 "cells": [
  {
   "cell_type": "markdown",
   "metadata": {},
   "source": [
    "# Setup"
   ]
  },
  {
   "cell_type": "code",
   "execution_count": null,
   "metadata": {},
   "outputs": [],
   "source": [
    "import random\n",
    "import string\n",
    "import os\n",
    "\n",
    "from pylibdmtx.pylibdmtx import encode, decode\n",
    "from PIL import Image\n",
    "\n",
    "from ultralytics import YOLO, settings\n",
    "root_dir = os.getcwd().replace('\\\\notebooks', '')\n",
    "settings.update({'datasets_dir': f'{root_dir}/data/module_pose/simple_synth', 'runs_dir': f'{root_dir}/yolo/runs'})\n",
    "print(root_dir)"
   ]
  },
  {
   "cell_type": "code",
   "execution_count": null,
   "metadata": {},
   "outputs": [],
   "source": [
    "# Should print True if GPU is available for use\n",
    "import torch\n",
    "print(torch.cuda.is_available())"
   ]
  },
  {
   "cell_type": "markdown",
   "metadata": {},
   "source": [
    "# Simple Synthesis\n",
    "\n",
    "Synthesizing a simple DMC dataset for the ultralytics yolo11 model to use."
   ]
  },
  {
   "cell_type": "code",
   "execution_count": null,
   "metadata": {},
   "outputs": [],
   "source": [
    "def gen_string():\n",
    "    '''\n",
    "    Generates a serial number to encode\n",
    "    \n",
    "    Serial numbers are:\n",
    "    - 11 characters long\n",
    "    - Index 0, 2, 4, 5, 6, 7, 8, 9, 10 are random digits\n",
    "    - Index 1 and 3 are uppercase letters\n",
    "    - Index 11, 12, 13, 14 are an incremental number starting from 0001\n",
    "\n",
    "    Example serial number: 4 L 4 N 0418028 0001\n",
    "    '''\n",
    "\n",
    "    to_encode = ''\n",
    "\n",
    "    # first 11 indexes\n",
    "    for j in range(11):\n",
    "        # 1 and 3 are uppercase\n",
    "        if j in [1, 3]:\n",
    "            to_encode += random.choice(string.ascii_uppercase)\n",
    "        else:\n",
    "            to_encode += str(random.randrange(0, 10))\n",
    "\n",
    "    # last 4 indexes\n",
    "    end = str(random.randrange(1, 99))\n",
    "    if len(end) == 1:\n",
    "        end = '0' + end\n",
    "    elif len(end) == 2:\n",
    "        end = '00' + end\n",
    "    else:\n",
    "        end = '000' + end\n",
    "    to_encode += end\n",
    "\n",
    "    return to_encode\n",
    "\n",
    "def encode_image(to_encode):\n",
    "    '''Creates a PIL image containing DMC encoding of given string'''\n",
    "\n",
    "    encoded = encode(to_encode.encode('utf8'))\n",
    "    img = Image.frombytes('RGB', (encoded.width, encoded.height), encoded.pixels).convert('L')\n",
    "\n",
    "    # crop image to remove white borders (have to leave some white border to do decode check)\n",
    "    # img = img.crop((15, 15, img.width-15, img.height-15))\n",
    "\n",
    "    # upscale image\n",
    "    img = img.resize((640, 640), Image.NEAREST)\n",
    "\n",
    "    return img\n",
    "\n",
    "def get_box_vals(img, debug=False):\n",
    "    '''Returns the coordinates of each module within DMC info zone'''\n",
    "    padding = 96      # Padding around DMC info zone in pixels (we only want inner modules!)\n",
    "    module_width = 32 # Pixel width/height of each module (they are square...)\n",
    "\n",
    "    raw_coords = [] # Raw pixel centers of each module\n",
    "    label_info = [] # Line by line yolo label info\n",
    "\n",
    "    # Normalized width and height of each module\n",
    "    norm_module_width = module_width / img.width\n",
    "    norm_module_height = module_width / img.height\n",
    "\n",
    "    # Loop through each module & add to label_info\n",
    "    count = 0\n",
    "    for y in range(padding+(module_width)//2, img.height-padding, module_width):\n",
    "        for x in range(padding+(module_width)//2, img.width-padding, module_width):\n",
    "            # Add module\n",
    "            label_info.append([count])\n",
    "\n",
    "            # Normalize pixel coords to 0-1\n",
    "            x_norm = x / img.width\n",
    "            y_norm = y / img.height\n",
    "\n",
    "            # Add normalized pixel coords\n",
    "            label_info[count].extend([x_norm, y_norm])\n",
    "\n",
    "            # Add width/height of each module\n",
    "            label_info[count].extend([norm_module_width, norm_module_height])\n",
    "\n",
    "            # Paint relevant pixels white/black for viz/debug\n",
    "            if img.getpixel((x, y)) < 128:\n",
    "                if debug:\n",
    "                    img.putpixel((x, y), (255))\n",
    "            else:\n",
    "                if debug:\n",
    "                    img.putpixel((x, y), (0))\n",
    "\n",
    "            # Add raw pixel coords\n",
    "            raw_coords.append((x, y))\n",
    "\n",
    "            count += 1\n",
    "\n",
    "    # convert to single string\n",
    "    # label_info = ' '.join([str(x) for x in label_info])\n",
    "\n",
    "    # print(black_modules)\n",
    "    # print(black_module_coords)\n",
    "    # print(class_labels)\n",
    "    return raw_coords, label_info"
   ]
  },
  {
   "cell_type": "code",
   "execution_count": null,
   "metadata": {},
   "outputs": [],
   "source": [
    "# testing\n",
    "test = gen_string()\n",
    "img = encode_image(test)\n",
    "raw_coords, label_info = get_box_vals(img, debug=True)\n",
    "print(raw_coords)\n",
    "print(label_info)\n",
    "img"
   ]
  },
  {
   "cell_type": "code",
   "execution_count": null,
   "metadata": {},
   "outputs": [],
   "source": [
    "def gen_save(type):\n",
    "    '''Generates a random serial number, encodes it into a DMC image, and saves it to train/val/test folders'''\n",
    "\n",
    "    to_encode = gen_string()\n",
    "    img = encode_image(to_encode)\n",
    "\n",
    "    # Save image\n",
    "    img.save(f'../data/yolo_decoding/object_detection/simple_synth/images/{type}/{to_encode}.png')\n",
    "\n",
    "    # Get box values\n",
    "    raw_coords, label_info = get_box_vals(img)\n",
    "\n",
    "    # Save box coordinates\n",
    "    with open(f'../data/yolo_decoding/object_detection/simple_synth/labels/{type}/{to_encode}.txt', 'w') as f:\n",
    "        for line in label_info:\n",
    "            line = ' '.join([str(x) for x in line])\n",
    "            f.write(f'{line}\\n')\n",
    "\n",
    "    return\n",
    "\n",
    "def delete_old():\n",
    "    '''Deletes all images and labels in train/val/test folders'''\n",
    "\n",
    "    for folder in ['train', 'val', 'test']:\n",
    "        for file in os.listdir(f'../data/yolo_decoding/object_detection/simple_synth/images/{folder}'):\n",
    "            os.remove(f'../data/yolo_decoding/object_detection/simple_synth/images/{folder}/{file}')\n",
    "\n",
    "        for file in os.listdir(f'../data/yolo_decoding/object_detection/simple_synth/labels/{folder}'):\n",
    "            os.remove(f'../data/yolo_decoding/object_detection/simple_synth/labels/{folder}/{file}')\n",
    "    \n",
    "    # Delete cache too (if it exists)\n",
    "    if os.path.exists('../data/yolo_decoding/object_detection/simple_synth/labels/train.cache'):\n",
    "        os.remove('../data/yolo_decoding/object_detection/simple_synth/labels/train.cache')\n",
    "        os.remove('../data/yolo_decoding/object_detection/simple_synth/labels/val.cache')\n",
    "\n",
    "    return"
   ]
  },
  {
   "cell_type": "code",
   "execution_count": null,
   "metadata": {},
   "outputs": [],
   "source": [
    "# delete old images and labels\n",
    "delete_old()"
   ]
  },
  {
   "cell_type": "code",
   "execution_count": null,
   "metadata": {},
   "outputs": [],
   "source": [
    "# generating train/val/test datasets\n",
    "n_train = 800\n",
    "n_val = 100\n",
    "n_test = 100\n",
    "\n",
    "# train\n",
    "for i in range(n_train - len(os.listdir('../data/yolo_decoding/object_detection/simple_synth/images/train'))):\n",
    "    gen_save('train')\n",
    "\n",
    "# val\n",
    "for i in range(n_val - len(os.listdir('../data/yolo_decoding/object_detection/simple_synth/images/val'))):\n",
    "    gen_save('val')\n",
    "\n",
    "# test\n",
    "for i in range(n_test - len(os.listdir('../data/yolo_decoding/object_detection/simple_synth/images/test'))):\n",
    "    gen_save('test')"
   ]
  },
  {
   "cell_type": "markdown",
   "metadata": {},
   "source": [
    "# Loading untrained model"
   ]
  },
  {
   "cell_type": "code",
   "execution_count": null,
   "metadata": {},
   "outputs": [],
   "source": [
    "model = YOLO('yolo11n.yaml', task='detect')"
   ]
  },
  {
   "cell_type": "markdown",
   "metadata": {},
   "source": [
    "# Training\n",
    "Notes on trained models\n",
    "- train: first model trained, likely mistake with widths\n",
    "- train2: fixed widths and heights. Model still doesn't detect any modules.\n",
    "- train3: removed early stopping."
   ]
  },
  {
   "cell_type": "code",
   "execution_count": null,
   "metadata": {},
   "outputs": [],
   "source": [
    "results = model.train(\n",
    "    data=f'{root_dir}\\\\data\\\\yolo_decoding\\\\object_detection\\\\simple_synth\\\\data.yml', # path to yaml file which specifies dataset parameters\n",
    "    epochs=100,\n",
    "    imgsz=640,                                         # image size (default 640 for yolo)\n",
    "    single_cls=False,                                  # multi-class training\n",
    "    patience=0,                                        # early stopping patience (after this many epochs with no improvement stop training)\n",
    "    pretrained=False,                                  # don't use pre-trained weights\n",
    "    plots=True,                                        # create plots\n",
    "\n",
    "    # solving GPU memory issue?\n",
    "    workers=0,                                         # number of worker threads for data loading (0 reduces memory problems at cost of slower training)\n",
    "    batch=8,                                           # batch size (default 16, reducing to 8 can help)\n",
    ")"
   ]
  },
  {
   "cell_type": "code",
   "execution_count": null,
   "metadata": {},
   "outputs": [],
   "source": [
    "# Super minor cleanup\n",
    "if os.path.exists('yolo11n.pt'):\n",
    "    os.remove('yolo11n.pt')"
   ]
  },
  {
   "cell_type": "markdown",
   "metadata": {},
   "source": [
    "# Evaluating"
   ]
  },
  {
   "cell_type": "code",
   "execution_count": null,
   "metadata": {},
   "outputs": [],
   "source": [
    "# Loading trained model\n",
    "model = YOLO('../yolo/runs/detect/train3/weights/best.pt', task='detect')"
   ]
  },
  {
   "cell_type": "code",
   "execution_count": null,
   "metadata": {},
   "outputs": [],
   "source": [
    "# # validation\n",
    "# metrics = model.val()\n",
    "# print(metrics)"
   ]
  },
  {
   "cell_type": "code",
   "execution_count": null,
   "metadata": {},
   "outputs": [],
   "source": [
    "# test\n",
    "test_images = os.listdir('../data/yolo_decoding/object_detection/simple_synth/images/test')\n",
    "test_images = [f'../data/yolo_decoding/object_detection/simple_synth/images/test/{x}' for x in test_images]\n",
    "results = model(test_images)"
   ]
  },
  {
   "cell_type": "code",
   "execution_count": null,
   "metadata": {},
   "outputs": [],
   "source": [
    "for result in results:\n",
    "    boxes = result.boxes\n",
    "    keypoints = result.keypoints\n",
    "    result.show()\n",
    "    break"
   ]
  }
 ],
 "metadata": {
  "kernelspec": {
   "display_name": "msc_thesis",
   "language": "python",
   "name": "python3"
  },
  "language_info": {
   "codemirror_mode": {
    "name": "ipython",
    "version": 3
   },
   "file_extension": ".py",
   "mimetype": "text/x-python",
   "name": "python",
   "nbconvert_exporter": "python",
   "pygments_lexer": "ipython3",
   "version": "3.9.21"
  }
 },
 "nbformat": 4,
 "nbformat_minor": 2
}
