{
 "cells": [
  {
   "cell_type": "markdown",
   "metadata": {},
   "source": [
    "# Setup"
   ]
  },
  {
   "cell_type": "code",
   "execution_count": 1,
   "metadata": {},
   "outputs": [
    {
     "name": "stdout",
     "output_type": "stream",
     "text": [
      "c:\\Users\\aidan\\OneDrive\\Desktop\\itu\\msc\\courses\\sem4\\thesis\\msc-thesis\n"
     ]
    }
   ],
   "source": [
    "import random\n",
    "import string\n",
    "import os\n",
    "\n",
    "from pylibdmtx.pylibdmtx import encode, decode\n",
    "from PIL import Image\n",
    "\n",
    "from ultralytics import YOLO, settings\n",
    "root_dir = os.getcwd().replace('\\\\notebooks', '')\n",
    "settings.update({'datasets_dir': f'{root_dir}/data/module_pose/simple_synth', 'runs_dir': f'{root_dir}/yolo/runs'})\n",
    "print(root_dir)"
   ]
  },
  {
   "cell_type": "code",
   "execution_count": 2,
   "metadata": {},
   "outputs": [
    {
     "name": "stdout",
     "output_type": "stream",
     "text": [
      "True\n"
     ]
    }
   ],
   "source": [
    "# Should print True if GPU is available for use\n",
    "import torch\n",
    "print(torch.cuda.is_available())"
   ]
  },
  {
   "cell_type": "markdown",
   "metadata": {},
   "source": [
    "# Simple Synthesis\n",
    "\n",
    "Synthesizing a simple DMC dataset for the ultralytics yolo11 model to use."
   ]
  },
  {
   "cell_type": "code",
   "execution_count": 3,
   "metadata": {},
   "outputs": [],
   "source": [
    "def gen_string():\n",
    "    '''\n",
    "    Generates a serial number to encode\n",
    "    \n",
    "    Serial numbers are:\n",
    "    - 11 characters long\n",
    "    - Index 0, 2, 4, 5, 6, 7, 8, 9, 10 are random digits\n",
    "    - Index 1 and 3 are uppercase letters\n",
    "    - Index 11, 12, 13, 14 are an incremental number starting from 0001\n",
    "\n",
    "    Example serial number: 4 L 4 N 0418028 0001\n",
    "    '''\n",
    "\n",
    "    to_encode = ''\n",
    "\n",
    "    # first 11 indexes\n",
    "    for j in range(11):\n",
    "        # 1 and 3 are uppercase\n",
    "        if j in [1, 3]:\n",
    "            to_encode += random.choice(string.ascii_uppercase)\n",
    "        else:\n",
    "            to_encode += str(random.randrange(0, 10))\n",
    "\n",
    "    # last 4 indexes\n",
    "    end = str(random.randrange(1, 99))\n",
    "    if len(end) == 1:\n",
    "        end = '0' + end\n",
    "    elif len(end) == 2:\n",
    "        end = '00' + end\n",
    "    else:\n",
    "        end = '000' + end\n",
    "    to_encode += end\n",
    "\n",
    "    return to_encode\n",
    "\n",
    "def encode_image(to_encode):\n",
    "    '''Creates a PIL image containing DMC encoding of given string'''\n",
    "\n",
    "    encoded = encode(to_encode.encode('utf8'))\n",
    "    img = Image.frombytes('RGB', (encoded.width, encoded.height), encoded.pixels).convert('L')\n",
    "\n",
    "    # crop image to remove white borders (have to leave some white border to do decode check)\n",
    "    # img = img.crop((15, 15, img.width-15, img.height-15))\n",
    "\n",
    "    # upscale image\n",
    "    img = img.resize((640, 640), Image.NEAREST)\n",
    "\n",
    "    return img\n",
    "\n",
    "def get_box_vals(img, debug=False):\n",
    "    '''Returns the coordinates of each module within DMC info zone'''\n",
    "    padding = 96      # Padding around DMC info zone in pixels (we only want inner modules!)\n",
    "    module_width = 32 # Pixel width/height of each module (they are square...)\n",
    "\n",
    "    raw_coords = [] # Raw pixel centers of each module\n",
    "    label_info = [] # Line by line yolo label info\n",
    "\n",
    "    # Normalized width and height of each module\n",
    "    norm_module_width = module_width / img.width\n",
    "    norm_module_height = module_width / img.height\n",
    "\n",
    "    # Loop through each module & add to label_info\n",
    "    count = 0\n",
    "    for y in range(padding+(module_width)//2, img.height-padding, module_width):\n",
    "        for x in range(padding+(module_width)//2, img.width-padding, module_width):\n",
    "            # Add module\n",
    "            label_info.append([count])\n",
    "\n",
    "            # Normalize pixel coords to 0-1\n",
    "            x_norm = x / img.width\n",
    "            y_norm = y / img.height\n",
    "\n",
    "            # Add normalized pixel coords\n",
    "            label_info[count].extend([x_norm, y_norm])\n",
    "\n",
    "            # Add width/height of each module\n",
    "            label_info[count].extend([norm_module_width, norm_module_height])\n",
    "\n",
    "            # Paint relevant pixels white/black for viz/debug\n",
    "            if img.getpixel((x, y)) < 128:\n",
    "                if debug:\n",
    "                    img.putpixel((x, y), (255))\n",
    "            else:\n",
    "                if debug:\n",
    "                    img.putpixel((x, y), (0))\n",
    "\n",
    "            # Add raw pixel coords\n",
    "            raw_coords.append((x, y))\n",
    "\n",
    "            count += 1\n",
    "\n",
    "    # convert to single string\n",
    "    # label_info = ' '.join([str(x) for x in label_info])\n",
    "\n",
    "    # print(black_modules)\n",
    "    # print(black_module_coords)\n",
    "    # print(class_labels)\n",
    "    return raw_coords, label_info"
   ]
  },
  {
   "cell_type": "code",
   "execution_count": 4,
   "metadata": {},
   "outputs": [
    {
     "name": "stdout",
     "output_type": "stream",
     "text": [
      "[(112, 112), (144, 112), (176, 112), (208, 112), (240, 112), (272, 112), (304, 112), (336, 112), (368, 112), (400, 112), (432, 112), (464, 112), (496, 112), (528, 112), (112, 144), (144, 144), (176, 144), (208, 144), (240, 144), (272, 144), (304, 144), (336, 144), (368, 144), (400, 144), (432, 144), (464, 144), (496, 144), (528, 144), (112, 176), (144, 176), (176, 176), (208, 176), (240, 176), (272, 176), (304, 176), (336, 176), (368, 176), (400, 176), (432, 176), (464, 176), (496, 176), (528, 176), (112, 208), (144, 208), (176, 208), (208, 208), (240, 208), (272, 208), (304, 208), (336, 208), (368, 208), (400, 208), (432, 208), (464, 208), (496, 208), (528, 208), (112, 240), (144, 240), (176, 240), (208, 240), (240, 240), (272, 240), (304, 240), (336, 240), (368, 240), (400, 240), (432, 240), (464, 240), (496, 240), (528, 240), (112, 272), (144, 272), (176, 272), (208, 272), (240, 272), (272, 272), (304, 272), (336, 272), (368, 272), (400, 272), (432, 272), (464, 272), (496, 272), (528, 272), (112, 304), (144, 304), (176, 304), (208, 304), (240, 304), (272, 304), (304, 304), (336, 304), (368, 304), (400, 304), (432, 304), (464, 304), (496, 304), (528, 304), (112, 336), (144, 336), (176, 336), (208, 336), (240, 336), (272, 336), (304, 336), (336, 336), (368, 336), (400, 336), (432, 336), (464, 336), (496, 336), (528, 336), (112, 368), (144, 368), (176, 368), (208, 368), (240, 368), (272, 368), (304, 368), (336, 368), (368, 368), (400, 368), (432, 368), (464, 368), (496, 368), (528, 368), (112, 400), (144, 400), (176, 400), (208, 400), (240, 400), (272, 400), (304, 400), (336, 400), (368, 400), (400, 400), (432, 400), (464, 400), (496, 400), (528, 400), (112, 432), (144, 432), (176, 432), (208, 432), (240, 432), (272, 432), (304, 432), (336, 432), (368, 432), (400, 432), (432, 432), (464, 432), (496, 432), (528, 432), (112, 464), (144, 464), (176, 464), (208, 464), (240, 464), (272, 464), (304, 464), (336, 464), (368, 464), (400, 464), (432, 464), (464, 464), (496, 464), (528, 464), (112, 496), (144, 496), (176, 496), (208, 496), (240, 496), (272, 496), (304, 496), (336, 496), (368, 496), (400, 496), (432, 496), (464, 496), (496, 496), (528, 496), (112, 528), (144, 528), (176, 528), (208, 528), (240, 528), (272, 528), (304, 528), (336, 528), (368, 528), (400, 528), (432, 528), (464, 528), (496, 528), (528, 528)]\n",
      "[[0, 0.175, 0.175, 0.05, 0.05], [1, 0.225, 0.175, 0.05, 0.05], [2, 0.275, 0.175, 0.05, 0.05], [3, 0.325, 0.175, 0.05, 0.05], [4, 0.375, 0.175, 0.05, 0.05], [5, 0.425, 0.175, 0.05, 0.05], [6, 0.475, 0.175, 0.05, 0.05], [7, 0.525, 0.175, 0.05, 0.05], [8, 0.575, 0.175, 0.05, 0.05], [9, 0.625, 0.175, 0.05, 0.05], [10, 0.675, 0.175, 0.05, 0.05], [11, 0.725, 0.175, 0.05, 0.05], [12, 0.775, 0.175, 0.05, 0.05], [13, 0.825, 0.175, 0.05, 0.05], [14, 0.175, 0.225, 0.05, 0.05], [15, 0.225, 0.225, 0.05, 0.05], [16, 0.275, 0.225, 0.05, 0.05], [17, 0.325, 0.225, 0.05, 0.05], [18, 0.375, 0.225, 0.05, 0.05], [19, 0.425, 0.225, 0.05, 0.05], [20, 0.475, 0.225, 0.05, 0.05], [21, 0.525, 0.225, 0.05, 0.05], [22, 0.575, 0.225, 0.05, 0.05], [23, 0.625, 0.225, 0.05, 0.05], [24, 0.675, 0.225, 0.05, 0.05], [25, 0.725, 0.225, 0.05, 0.05], [26, 0.775, 0.225, 0.05, 0.05], [27, 0.825, 0.225, 0.05, 0.05], [28, 0.175, 0.275, 0.05, 0.05], [29, 0.225, 0.275, 0.05, 0.05], [30, 0.275, 0.275, 0.05, 0.05], [31, 0.325, 0.275, 0.05, 0.05], [32, 0.375, 0.275, 0.05, 0.05], [33, 0.425, 0.275, 0.05, 0.05], [34, 0.475, 0.275, 0.05, 0.05], [35, 0.525, 0.275, 0.05, 0.05], [36, 0.575, 0.275, 0.05, 0.05], [37, 0.625, 0.275, 0.05, 0.05], [38, 0.675, 0.275, 0.05, 0.05], [39, 0.725, 0.275, 0.05, 0.05], [40, 0.775, 0.275, 0.05, 0.05], [41, 0.825, 0.275, 0.05, 0.05], [42, 0.175, 0.325, 0.05, 0.05], [43, 0.225, 0.325, 0.05, 0.05], [44, 0.275, 0.325, 0.05, 0.05], [45, 0.325, 0.325, 0.05, 0.05], [46, 0.375, 0.325, 0.05, 0.05], [47, 0.425, 0.325, 0.05, 0.05], [48, 0.475, 0.325, 0.05, 0.05], [49, 0.525, 0.325, 0.05, 0.05], [50, 0.575, 0.325, 0.05, 0.05], [51, 0.625, 0.325, 0.05, 0.05], [52, 0.675, 0.325, 0.05, 0.05], [53, 0.725, 0.325, 0.05, 0.05], [54, 0.775, 0.325, 0.05, 0.05], [55, 0.825, 0.325, 0.05, 0.05], [56, 0.175, 0.375, 0.05, 0.05], [57, 0.225, 0.375, 0.05, 0.05], [58, 0.275, 0.375, 0.05, 0.05], [59, 0.325, 0.375, 0.05, 0.05], [60, 0.375, 0.375, 0.05, 0.05], [61, 0.425, 0.375, 0.05, 0.05], [62, 0.475, 0.375, 0.05, 0.05], [63, 0.525, 0.375, 0.05, 0.05], [64, 0.575, 0.375, 0.05, 0.05], [65, 0.625, 0.375, 0.05, 0.05], [66, 0.675, 0.375, 0.05, 0.05], [67, 0.725, 0.375, 0.05, 0.05], [68, 0.775, 0.375, 0.05, 0.05], [69, 0.825, 0.375, 0.05, 0.05], [70, 0.175, 0.425, 0.05, 0.05], [71, 0.225, 0.425, 0.05, 0.05], [72, 0.275, 0.425, 0.05, 0.05], [73, 0.325, 0.425, 0.05, 0.05], [74, 0.375, 0.425, 0.05, 0.05], [75, 0.425, 0.425, 0.05, 0.05], [76, 0.475, 0.425, 0.05, 0.05], [77, 0.525, 0.425, 0.05, 0.05], [78, 0.575, 0.425, 0.05, 0.05], [79, 0.625, 0.425, 0.05, 0.05], [80, 0.675, 0.425, 0.05, 0.05], [81, 0.725, 0.425, 0.05, 0.05], [82, 0.775, 0.425, 0.05, 0.05], [83, 0.825, 0.425, 0.05, 0.05], [84, 0.175, 0.475, 0.05, 0.05], [85, 0.225, 0.475, 0.05, 0.05], [86, 0.275, 0.475, 0.05, 0.05], [87, 0.325, 0.475, 0.05, 0.05], [88, 0.375, 0.475, 0.05, 0.05], [89, 0.425, 0.475, 0.05, 0.05], [90, 0.475, 0.475, 0.05, 0.05], [91, 0.525, 0.475, 0.05, 0.05], [92, 0.575, 0.475, 0.05, 0.05], [93, 0.625, 0.475, 0.05, 0.05], [94, 0.675, 0.475, 0.05, 0.05], [95, 0.725, 0.475, 0.05, 0.05], [96, 0.775, 0.475, 0.05, 0.05], [97, 0.825, 0.475, 0.05, 0.05], [98, 0.175, 0.525, 0.05, 0.05], [99, 0.225, 0.525, 0.05, 0.05], [100, 0.275, 0.525, 0.05, 0.05], [101, 0.325, 0.525, 0.05, 0.05], [102, 0.375, 0.525, 0.05, 0.05], [103, 0.425, 0.525, 0.05, 0.05], [104, 0.475, 0.525, 0.05, 0.05], [105, 0.525, 0.525, 0.05, 0.05], [106, 0.575, 0.525, 0.05, 0.05], [107, 0.625, 0.525, 0.05, 0.05], [108, 0.675, 0.525, 0.05, 0.05], [109, 0.725, 0.525, 0.05, 0.05], [110, 0.775, 0.525, 0.05, 0.05], [111, 0.825, 0.525, 0.05, 0.05], [112, 0.175, 0.575, 0.05, 0.05], [113, 0.225, 0.575, 0.05, 0.05], [114, 0.275, 0.575, 0.05, 0.05], [115, 0.325, 0.575, 0.05, 0.05], [116, 0.375, 0.575, 0.05, 0.05], [117, 0.425, 0.575, 0.05, 0.05], [118, 0.475, 0.575, 0.05, 0.05], [119, 0.525, 0.575, 0.05, 0.05], [120, 0.575, 0.575, 0.05, 0.05], [121, 0.625, 0.575, 0.05, 0.05], [122, 0.675, 0.575, 0.05, 0.05], [123, 0.725, 0.575, 0.05, 0.05], [124, 0.775, 0.575, 0.05, 0.05], [125, 0.825, 0.575, 0.05, 0.05], [126, 0.175, 0.625, 0.05, 0.05], [127, 0.225, 0.625, 0.05, 0.05], [128, 0.275, 0.625, 0.05, 0.05], [129, 0.325, 0.625, 0.05, 0.05], [130, 0.375, 0.625, 0.05, 0.05], [131, 0.425, 0.625, 0.05, 0.05], [132, 0.475, 0.625, 0.05, 0.05], [133, 0.525, 0.625, 0.05, 0.05], [134, 0.575, 0.625, 0.05, 0.05], [135, 0.625, 0.625, 0.05, 0.05], [136, 0.675, 0.625, 0.05, 0.05], [137, 0.725, 0.625, 0.05, 0.05], [138, 0.775, 0.625, 0.05, 0.05], [139, 0.825, 0.625, 0.05, 0.05], [140, 0.175, 0.675, 0.05, 0.05], [141, 0.225, 0.675, 0.05, 0.05], [142, 0.275, 0.675, 0.05, 0.05], [143, 0.325, 0.675, 0.05, 0.05], [144, 0.375, 0.675, 0.05, 0.05], [145, 0.425, 0.675, 0.05, 0.05], [146, 0.475, 0.675, 0.05, 0.05], [147, 0.525, 0.675, 0.05, 0.05], [148, 0.575, 0.675, 0.05, 0.05], [149, 0.625, 0.675, 0.05, 0.05], [150, 0.675, 0.675, 0.05, 0.05], [151, 0.725, 0.675, 0.05, 0.05], [152, 0.775, 0.675, 0.05, 0.05], [153, 0.825, 0.675, 0.05, 0.05], [154, 0.175, 0.725, 0.05, 0.05], [155, 0.225, 0.725, 0.05, 0.05], [156, 0.275, 0.725, 0.05, 0.05], [157, 0.325, 0.725, 0.05, 0.05], [158, 0.375, 0.725, 0.05, 0.05], [159, 0.425, 0.725, 0.05, 0.05], [160, 0.475, 0.725, 0.05, 0.05], [161, 0.525, 0.725, 0.05, 0.05], [162, 0.575, 0.725, 0.05, 0.05], [163, 0.625, 0.725, 0.05, 0.05], [164, 0.675, 0.725, 0.05, 0.05], [165, 0.725, 0.725, 0.05, 0.05], [166, 0.775, 0.725, 0.05, 0.05], [167, 0.825, 0.725, 0.05, 0.05], [168, 0.175, 0.775, 0.05, 0.05], [169, 0.225, 0.775, 0.05, 0.05], [170, 0.275, 0.775, 0.05, 0.05], [171, 0.325, 0.775, 0.05, 0.05], [172, 0.375, 0.775, 0.05, 0.05], [173, 0.425, 0.775, 0.05, 0.05], [174, 0.475, 0.775, 0.05, 0.05], [175, 0.525, 0.775, 0.05, 0.05], [176, 0.575, 0.775, 0.05, 0.05], [177, 0.625, 0.775, 0.05, 0.05], [178, 0.675, 0.775, 0.05, 0.05], [179, 0.725, 0.775, 0.05, 0.05], [180, 0.775, 0.775, 0.05, 0.05], [181, 0.825, 0.775, 0.05, 0.05], [182, 0.175, 0.825, 0.05, 0.05], [183, 0.225, 0.825, 0.05, 0.05], [184, 0.275, 0.825, 0.05, 0.05], [185, 0.325, 0.825, 0.05, 0.05], [186, 0.375, 0.825, 0.05, 0.05], [187, 0.425, 0.825, 0.05, 0.05], [188, 0.475, 0.825, 0.05, 0.05], [189, 0.525, 0.825, 0.05, 0.05], [190, 0.575, 0.825, 0.05, 0.05], [191, 0.625, 0.825, 0.05, 0.05], [192, 0.675, 0.825, 0.05, 0.05], [193, 0.725, 0.825, 0.05, 0.05], [194, 0.775, 0.825, 0.05, 0.05], [195, 0.825, 0.825, 0.05, 0.05]]\n"
     ]
    },
    {
     "data": {
      "image/jpeg": "[encoded data removed]",
      "image/png": "[encoded data removed]",
      "text/plain": [
       "<PIL.Image.Image image mode=L size=640x640>"
      ]
     },
     "execution_count": 4,
     "metadata": {},
     "output_type": "execute_result"
    }
   ],
   "source": [
    "# testing\n",
    "test = gen_string()\n",
    "img = encode_image(test)\n",
    "raw_coords, label_info = get_box_vals(img, debug=True)\n",
    "print(raw_coords)\n",
    "print(label_info)\n",
    "img"
   ]
  },
  {
   "cell_type": "code",
   "execution_count": 5,
   "metadata": {},
   "outputs": [],
   "source": [
    "def gen_save(type):\n",
    "    '''Generates a random serial number, encodes it into a DMC image, and saves it to train/val/test folders'''\n",
    "\n",
    "    to_encode = gen_string()\n",
    "    img = encode_image(to_encode)\n",
    "\n",
    "    # Save image\n",
    "    img.save(f'../data/yolo_decoding/object_detection/simple_synth/images/{type}/{to_encode}.png')\n",
    "\n",
    "    # Get box values\n",
    "    raw_coords, label_info = get_box_vals(img)\n",
    "\n",
    "    # Save box coordinates\n",
    "    with open(f'../data/yolo_decoding/object_detection/simple_synth/labels/{type}/{to_encode}.txt', 'w') as f:\n",
    "        for line in label_info:\n",
    "            line = ' '.join([str(x) for x in line])\n",
    "            f.write(f'{line}\\n')\n",
    "\n",
    "    return\n",
    "\n",
    "def delete_old():\n",
    "    '''Deletes all images and labels in train/val/test folders'''\n",
    "\n",
    "    for folder in ['train', 'val', 'test']:\n",
    "        for file in os.listdir(f'../data/yolo_decoding/object_detection/simple_synth/images/{folder}'):\n",
    "            os.remove(f'../data/yolo_decoding/object_detection/simple_synth/images/{folder}/{file}')\n",
    "\n",
    "        for file in os.listdir(f'../data/yolo_decoding/object_detection/simple_synth/labels/{folder}'):\n",
    "            os.remove(f'../data/yolo_decoding/object_detection/simple_synth/labels/{folder}/{file}')\n",
    "    \n",
    "    # Delete cache too (if it exists)\n",
    "    if os.path.exists('../data/yolo_decoding/object_detection/simple_synth/labels/train.cache'):\n",
    "        os.remove('../data/yolo_decoding/object_detection/simple_synth/labels/train.cache')\n",
    "        os.remove('../data/yolo_decoding/object_detection/simple_synth/labels/val.cache')\n",
    "\n",
    "    return"
   ]
  },
  {
   "cell_type": "code",
   "execution_count": 6,
   "metadata": {},
   "outputs": [],
   "source": [
    "# delete old images and labels\n",
    "delete_old()"
   ]
  },
  {
   "cell_type": "code",
   "execution_count": 7,
   "metadata": {},
   "outputs": [],
   "source": [
    "# generating train/val/test datasets\n",
    "n_train = 800\n",
    "n_val = 100\n",
    "n_test = 100\n",
    "\n",
    "# train\n",
    "for i in range(n_train - len(os.listdir('../data/yolo_decoding/object_detection/simple_synth/images/train'))):\n",
    "    gen_save('train')\n",
    "\n",
    "# val\n",
    "for i in range(n_val - len(os.listdir('../data/yolo_decoding/object_detection/simple_synth/images/val'))):\n",
    "    gen_save('val')\n",
    "\n",
    "# test\n",
    "for i in range(n_test - len(os.listdir('../data/yolo_decoding/object_detection/simple_synth/images/test'))):\n",
    "    gen_save('test')"
   ]
  },
  {
   "cell_type": "markdown",
   "metadata": {},
   "source": [
    "# Loading untrained model"
   ]
  },
  {
   "cell_type": "code",
   "execution_count": 8,
   "metadata": {},
   "outputs": [],
   "source": [
    "model = YOLO('yolo11n.yaml', task='detect')"
   ]
  },
  {
   "cell_type": "markdown",
   "metadata": {},
   "source": [
    "# Training\n",
    "Notes on trained models\n",
    "- train: first model trained, likely mistake with widths\n",
    "- train2: fixed widths and heights. Model still doesn't detect any modules.\n",
    "- train3: removed early stopping."
   ]
  },
  {
   "cell_type": "code",
   "execution_count": 20,
   "metadata": {},
   "outputs": [
    {
     "name": "stdout",
     "output_type": "stream",
     "text": [
      "New https://pypi.org/project/ultralytics/8.3.77 available  Update with 'pip install -U ultralytics'\n",
      "Ultralytics 8.3.75  Python-3.9.21 torch-2.6.0+cu118 CUDA:0 (NVIDIA GeForce RTX 2070, 8192MiB)\n",
      "\u001b[34m\u001b[1mengine\\trainer: \u001b[0mtask=detect, mode=train, model=../yolo/runs/detect/train2/weights/best.pt, data=c:\\Users\\aidan\\OneDrive\\Desktop\\itu\\msc\\courses\\sem4\\thesis\\msc-thesis\\data\\yolo_decoding\\object_detection\\simple_synth\\data.yml, epochs=100, time=None, patience=0, batch=8, imgsz=640, save=True, save_period=-1, cache=False, device=None, workers=0, project=None, name=train3, exist_ok=False, pretrained=False, optimizer=auto, verbose=True, seed=0, deterministic=True, single_cls=False, rect=False, cos_lr=False, close_mosaic=10, resume=False, amp=True, fraction=1.0, profile=False, freeze=None, multi_scale=False, overlap_mask=True, mask_ratio=4, dropout=0.0, val=True, split=val, save_json=False, save_hybrid=False, conf=None, iou=0.7, max_det=300, half=False, dnn=False, plots=True, source=None, vid_stride=1, stream_buffer=False, visualize=False, augment=False, agnostic_nms=False, classes=None, retina_masks=False, embed=None, show=False, save_frames=False, save_txt=False, save_conf=False, save_crop=False, show_labels=True, show_conf=True, show_boxes=True, line_width=None, format=torchscript, keras=False, optimize=False, int8=False, dynamic=False, simplify=True, opset=None, workspace=None, nms=False, lr0=0.01, lrf=0.01, momentum=0.937, weight_decay=0.0005, warmup_epochs=3.0, warmup_momentum=0.8, warmup_bias_lr=0.1, box=7.5, cls=0.5, dfl=1.5, pose=12.0, kobj=1.0, nbs=64, hsv_h=0.015, hsv_s=0.7, hsv_v=0.4, degrees=0.0, translate=0.1, scale=0.5, shear=0.0, perspective=0.0, flipud=0.0, fliplr=0.5, bgr=0.0, mosaic=1.0, mixup=0.0, copy_paste=0.0, copy_paste_mode=flip, auto_augment=randaugment, erasing=0.4, crop_fraction=1.0, cfg=None, tracker=botsort.yaml, save_dir=c:\\Users\\aidan\\OneDrive\\Desktop\\itu\\msc\\courses\\sem4\\thesis\\msc-thesis\\yolo\\runs\\detect\\train3\n",
      "\n",
      "                   from  n    params  module                                       arguments                     \n",
      "  0                  -1  1       464  ultralytics.nn.modules.conv.Conv             [3, 16, 3, 2]                 \n",
      "  1                  -1  1      4672  ultralytics.nn.modules.conv.Conv             [16, 32, 3, 2]                \n",
      "  2                  -1  1      6640  ultralytics.nn.modules.block.C3k2            [32, 64, 1, False, 0.25]      \n",
      "  3                  -1  1     36992  ultralytics.nn.modules.conv.Conv             [64, 64, 3, 2]                \n",
      "  4                  -1  1     26080  ultralytics.nn.modules.block.C3k2            [64, 128, 1, False, 0.25]     \n",
      "  5                  -1  1    147712  ultralytics.nn.modules.conv.Conv             [128, 128, 3, 2]              \n",
      "  6                  -1  1     87040  ultralytics.nn.modules.block.C3k2            [128, 128, 1, True]           \n",
      "  7                  -1  1    295424  ultralytics.nn.modules.conv.Conv             [128, 256, 3, 2]              \n",
      "  8                  -1  1    346112  ultralytics.nn.modules.block.C3k2            [256, 256, 1, True]           \n",
      "  9                  -1  1    164608  ultralytics.nn.modules.block.SPPF            [256, 256, 5]                 \n",
      " 10                  -1  1    249728  ultralytics.nn.modules.block.C2PSA           [256, 256, 1]                 \n",
      " 11                  -1  1         0  torch.nn.modules.upsampling.Upsample         [None, 2, 'nearest']          \n",
      " 12             [-1, 6]  1         0  ultralytics.nn.modules.conv.Concat           [1]                           \n",
      " 13                  -1  1    111296  ultralytics.nn.modules.block.C3k2            [384, 128, 1, False]          \n",
      " 14                  -1  1         0  torch.nn.modules.upsampling.Upsample         [None, 2, 'nearest']          \n",
      " 15             [-1, 4]  1         0  ultralytics.nn.modules.conv.Concat           [1]                           \n",
      " 16                  -1  1     32096  ultralytics.nn.modules.block.C3k2            [256, 64, 1, False]           \n",
      " 17                  -1  1     36992  ultralytics.nn.modules.conv.Conv             [64, 64, 3, 2]                \n",
      " 18            [-1, 13]  1         0  ultralytics.nn.modules.conv.Concat           [1]                           \n",
      " 19                  -1  1     86720  ultralytics.nn.modules.block.C3k2            [192, 128, 1, False]          \n",
      " 20                  -1  1    147712  ultralytics.nn.modules.conv.Conv             [128, 128, 3, 2]              \n",
      " 21            [-1, 10]  1         0  ultralytics.nn.modules.conv.Concat           [1]                           \n",
      " 22                  -1  1    378880  ultralytics.nn.modules.block.C3k2            [384, 256, 1, True]           \n",
      " 23        [16, 19, 22]  1    525520  ultralytics.nn.modules.head.Detect           [196, [64, 128, 256]]         \n",
      "YOLO11n summary: 319 layers, 2,684,688 parameters, 2,684,672 gradients, 6.9 GFLOPs\n",
      "\n",
      "Transferred 94/499 items from pretrained weights\n",
      "Freezing layer 'model.23.dfl.conv.weight'\n",
      "\u001b[34m\u001b[1mAMP: \u001b[0mrunning Automatic Mixed Precision (AMP) checks...\n",
      "Downloading https://github.com/ultralytics/assets/releases/download/v8.3.0/yolo11n.pt to 'yolo11n.pt'...\n"
     ]
    },
    {
     "name": "stderr",
     "output_type": "stream",
     "text": [
      "100%|██████████| 5.35M/5.35M [00:00<00:00, 9.35MB/s]\n"
     ]
    },
    {
     "name": "stdout",
     "output_type": "stream",
     "text": [
      "\u001b[34m\u001b[1mAMP: \u001b[0mchecks passed \n"
     ]
    },
    {
     "name": "stderr",
     "output_type": "stream",
     "text": [
      "\u001b[34m\u001b[1mtrain: \u001b[0mScanning C:\\Users\\aidan\\OneDrive\\Desktop\\itu\\msc\\courses\\sem4\\thesis\\msc-thesis\\data\\yolo_decoding\\object_detection\\simple_synth\\labels\\train.cache... 800 images, 0 backgrounds, 0 corrupt: 100%|██████████| 800/800 [00:00<?, ?it/s]\n",
      "\u001b[34m\u001b[1mval: \u001b[0mScanning C:\\Users\\aidan\\OneDrive\\Desktop\\itu\\msc\\courses\\sem4\\thesis\\msc-thesis\\data\\yolo_decoding\\object_detection\\simple_synth\\labels\\val.cache... 100 images, 0 backgrounds, 0 corrupt: 100%|██████████| 100/100 [00:00<?, ?it/s]"
     ]
    },
    {
     "name": "stdout",
     "output_type": "stream",
     "text": [
      "Plotting labels to c:\\Users\\aidan\\OneDrive\\Desktop\\itu\\msc\\courses\\sem4\\thesis\\msc-thesis\\yolo\\runs\\detect\\train3\\labels.jpg... \n"
     ]
    },
    {
     "name": "stderr",
     "output_type": "stream",
     "text": [
      "\n"
     ]
    },
    {
     "name": "stdout",
     "output_type": "stream",
     "text": [
      "\u001b[34m\u001b[1moptimizer:\u001b[0m 'optimizer=auto' found, ignoring 'lr0=0.01' and 'momentum=0.937' and determining best 'optimizer', 'lr0' and 'momentum' automatically... \n",
      "\u001b[34m\u001b[1moptimizer:\u001b[0m AdamW(lr=5e-05, momentum=0.9) with parameter groups 81 weight(decay=0.0), 88 weight(decay=0.0005), 87 bias(decay=0.0)\n",
      "Image sizes 640 train, 640 val\n",
      "Using 0 dataloader workers\n",
      "Logging results to \u001b[1mc:\\Users\\aidan\\OneDrive\\Desktop\\itu\\msc\\courses\\sem4\\thesis\\msc-thesis\\yolo\\runs\\detect\\train3\u001b[0m\n",
      "Starting training for 100 epochs...\n",
      "\n",
      "      Epoch    GPU_mem   box_loss   cls_loss   dfl_loss  Instances       Size\n"
     ]
    },
    {
     "name": "stderr",
     "output_type": "stream",
     "text": [
      "      1/100      6.16G      1.548      4.386      1.254       2783        640: 100%|██████████| 100/100 [00:28<00:00,  3.53it/s]\n",
      "                 Class     Images  Instances      Box(P          R      mAP50  mAP50-95): 100%|██████████| 7/7 [00:04<00:00,  1.43it/s]"
     ]
    },
    {
     "name": "stdout",
     "output_type": "stream",
     "text": [
      "                   all        100      19600    0.00216    0.00913    0.00122    0.00102\n"
     ]
    },
    {
     "name": "stderr",
     "output_type": "stream",
     "text": [
      "\n"
     ]
    },
    {
     "name": "stdout",
     "output_type": "stream",
     "text": [
      "\n",
      "      Epoch    GPU_mem   box_loss   cls_loss   dfl_loss  Instances       Size\n"
     ]
    },
    {
     "name": "stderr",
     "output_type": "stream",
     "text": [
      "      2/100      6.47G      1.458      4.357       1.25       2388        640: 100%|██████████| 100/100 [00:25<00:00,  3.87it/s]\n",
      "                 Class     Images  Instances      Box(P          R      mAP50  mAP50-95): 100%|██████████| 7/7 [00:05<00:00,  1.24it/s]"
     ]
    },
    {
     "name": "stdout",
     "output_type": "stream",
     "text": [
      "                   all        100      19600    0.00536    0.00913    0.00284    0.00246\n"
     ]
    },
    {
     "name": "stderr",
     "output_type": "stream",
     "text": [
      "\n"
     ]
    },
    {
     "name": "stdout",
     "output_type": "stream",
     "text": [
      "\n",
      "      Epoch    GPU_mem   box_loss   cls_loss   dfl_loss  Instances       Size\n"
     ]
    },
    {
     "name": "stderr",
     "output_type": "stream",
     "text": [
      "      3/100      5.08G      1.447      4.332      1.233       1561        640: 100%|██████████| 100/100 [00:25<00:00,  3.97it/s]\n",
      "                 Class     Images  Instances      Box(P          R      mAP50  mAP50-95): 100%|██████████| 7/7 [00:06<00:00,  1.03it/s]"
     ]
    },
    {
     "name": "stdout",
     "output_type": "stream",
     "text": [
      "                   all        100      19600    0.00448    0.00878    0.00241    0.00207\n"
     ]
    },
    {
     "name": "stderr",
     "output_type": "stream",
     "text": [
      "\n"
     ]
    },
    {
     "name": "stdout",
     "output_type": "stream",
     "text": [
      "\n",
      "      Epoch    GPU_mem   box_loss   cls_loss   dfl_loss  Instances       Size\n"
     ]
    },
    {
     "name": "stderr",
     "output_type": "stream",
     "text": [
      "      4/100      3.71G      1.436      4.279      1.215       2563        640: 100%|██████████| 100/100 [00:24<00:00,  4.03it/s]\n",
      "                 Class     Images  Instances      Box(P          R      mAP50  mAP50-95): 100%|██████████| 7/7 [00:06<00:00,  1.03it/s]"
     ]
    },
    {
     "name": "stdout",
     "output_type": "stream",
     "text": [
      "                   all        100      19600    0.00336    0.00806    0.00184    0.00158\n"
     ]
    },
    {
     "name": "stderr",
     "output_type": "stream",
     "text": [
      "\n"
     ]
    },
    {
     "name": "stdout",
     "output_type": "stream",
     "text": [
      "\n",
      "      Epoch    GPU_mem   box_loss   cls_loss   dfl_loss  Instances       Size\n"
     ]
    },
    {
     "name": "stderr",
     "output_type": "stream",
     "text": [
      "      5/100      3.67G      1.368      4.244       1.21       2905        640: 100%|██████████| 100/100 [00:24<00:00,  4.03it/s]\n",
      "                 Class     Images  Instances      Box(P          R      mAP50  mAP50-95): 100%|██████████| 7/7 [00:07<00:00,  1.01s/it]"
     ]
    },
    {
     "name": "stdout",
     "output_type": "stream",
     "text": [
      "                   all        100      19600    0.00643    0.00918    0.00343    0.00286\n"
     ]
    },
    {
     "name": "stderr",
     "output_type": "stream",
     "text": [
      "\n"
     ]
    },
    {
     "name": "stdout",
     "output_type": "stream",
     "text": [
      "\n",
      "      Epoch    GPU_mem   box_loss   cls_loss   dfl_loss  Instances       Size\n"
     ]
    },
    {
     "name": "stderr",
     "output_type": "stream",
     "text": [
      "      6/100       5.8G      1.385      4.217       1.19       1586        640: 100%|██████████| 100/100 [00:24<00:00,  4.00it/s]\n",
      "                 Class     Images  Instances      Box(P          R      mAP50  mAP50-95): 100%|██████████| 7/7 [00:07<00:00,  1.08s/it]"
     ]
    },
    {
     "name": "stdout",
     "output_type": "stream",
     "text": [
      "                   all        100      19600    0.00723    0.00903    0.00384    0.00314\n"
     ]
    },
    {
     "name": "stderr",
     "output_type": "stream",
     "text": [
      "\n"
     ]
    },
    {
     "name": "stdout",
     "output_type": "stream",
     "text": [
      "\n",
      "      Epoch    GPU_mem   box_loss   cls_loss   dfl_loss  Instances       Size\n"
     ]
    },
    {
     "name": "stderr",
     "output_type": "stream",
     "text": [
      "      7/100      5.36G      1.385      4.185      1.178       2203        640: 100%|██████████| 100/100 [00:25<00:00,  3.96it/s]\n",
      "                 Class     Images  Instances      Box(P          R      mAP50  mAP50-95): 100%|██████████| 7/7 [00:07<00:00,  1.08s/it]"
     ]
    },
    {
     "name": "stdout",
     "output_type": "stream",
     "text": [
      "                   all        100      19600     0.0057    0.00939    0.00308    0.00253\n"
     ]
    },
    {
     "name": "stderr",
     "output_type": "stream",
     "text": [
      "\n"
     ]
    },
    {
     "name": "stdout",
     "output_type": "stream",
     "text": [
      "\n",
      "      Epoch    GPU_mem   box_loss   cls_loss   dfl_loss  Instances       Size\n"
     ]
    },
    {
     "name": "stderr",
     "output_type": "stream",
     "text": [
      "      8/100      5.48G      1.328      4.144      1.157       2769        640: 100%|██████████| 100/100 [00:25<00:00,  3.96it/s]\n",
      "                 Class     Images  Instances      Box(P          R      mAP50  mAP50-95): 100%|██████████| 7/7 [00:07<00:00,  1.08s/it]"
     ]
    },
    {
     "name": "stdout",
     "output_type": "stream",
     "text": [
      "                   all        100      19600    0.00755    0.00939    0.00405    0.00331\n"
     ]
    },
    {
     "name": "stderr",
     "output_type": "stream",
     "text": [
      "\n"
     ]
    },
    {
     "name": "stdout",
     "output_type": "stream",
     "text": [
      "\n",
      "      Epoch    GPU_mem   box_loss   cls_loss   dfl_loss  Instances       Size\n"
     ]
    },
    {
     "name": "stderr",
     "output_type": "stream",
     "text": [
      "      9/100      5.28G      1.344      4.133      1.149       2370        640: 100%|██████████| 100/100 [00:25<00:00,  3.98it/s]\n",
      "                 Class     Images  Instances      Box(P          R      mAP50  mAP50-95): 100%|██████████| 7/7 [00:07<00:00,  1.08s/it]"
     ]
    },
    {
     "name": "stdout",
     "output_type": "stream",
     "text": [
      "                   all        100      19600    0.00539    0.00888    0.00295    0.00244\n"
     ]
    },
    {
     "name": "stderr",
     "output_type": "stream",
     "text": [
      "\n"
     ]
    },
    {
     "name": "stdout",
     "output_type": "stream",
     "text": [
      "\n",
      "      Epoch    GPU_mem   box_loss   cls_loss   dfl_loss  Instances       Size\n"
     ]
    },
    {
     "name": "stderr",
     "output_type": "stream",
     "text": [
      "     10/100      4.95G      1.332      4.107      1.148       1317        640: 100%|██████████| 100/100 [00:24<00:00,  4.04it/s]\n",
      "                 Class     Images  Instances      Box(P          R      mAP50  mAP50-95): 100%|██████████| 7/7 [00:07<00:00,  1.06s/it]"
     ]
    },
    {
     "name": "stdout",
     "output_type": "stream",
     "text": [
      "                   all        100      19600    0.00534    0.00939    0.00291    0.00242\n"
     ]
    },
    {
     "name": "stderr",
     "output_type": "stream",
     "text": [
      "\n"
     ]
    },
    {
     "name": "stdout",
     "output_type": "stream",
     "text": [
      "\n",
      "      Epoch    GPU_mem   box_loss   cls_loss   dfl_loss  Instances       Size\n"
     ]
    },
    {
     "name": "stderr",
     "output_type": "stream",
     "text": [
      "     11/100      3.82G      1.255      4.064      1.131       1828        640: 100%|██████████| 100/100 [00:24<00:00,  4.06it/s]\n",
      "                 Class     Images  Instances      Box(P          R      mAP50  mAP50-95): 100%|██████████| 7/7 [00:07<00:00,  1.07s/it]"
     ]
    },
    {
     "name": "stdout",
     "output_type": "stream",
     "text": [
      "                   all        100      19600    0.00524    0.00893    0.00286    0.00236\n"
     ]
    },
    {
     "name": "stderr",
     "output_type": "stream",
     "text": [
      "\n"
     ]
    },
    {
     "name": "stdout",
     "output_type": "stream",
     "text": [
      "\n",
      "      Epoch    GPU_mem   box_loss   cls_loss   dfl_loss  Instances       Size\n"
     ]
    },
    {
     "name": "stderr",
     "output_type": "stream",
     "text": [
      "     12/100      6.72G      1.253      4.069      1.129       2218        640: 100%|██████████| 100/100 [00:24<00:00,  4.14it/s]\n",
      "                 Class     Images  Instances      Box(P          R      mAP50  mAP50-95): 100%|██████████| 7/7 [00:07<00:00,  1.04s/it]"
     ]
    },
    {
     "name": "stdout",
     "output_type": "stream",
     "text": [
      "                   all        100      19600    0.00531    0.00862    0.00291    0.00244\n"
     ]
    },
    {
     "name": "stderr",
     "output_type": "stream",
     "text": [
      "\n"
     ]
    },
    {
     "name": "stdout",
     "output_type": "stream",
     "text": [
      "\n",
      "      Epoch    GPU_mem   box_loss   cls_loss   dfl_loss  Instances       Size\n"
     ]
    },
    {
     "name": "stderr",
     "output_type": "stream",
     "text": [
      "     13/100      5.44G      1.259      4.051      1.122       2401        640: 100%|██████████| 100/100 [00:24<00:00,  4.14it/s]\n",
      "                 Class     Images  Instances      Box(P          R      mAP50  mAP50-95): 100%|██████████| 7/7 [00:07<00:00,  1.05s/it]"
     ]
    },
    {
     "name": "stdout",
     "output_type": "stream",
     "text": [
      "                   all        100      19600    0.00529    0.00918    0.00289    0.00244\n"
     ]
    },
    {
     "name": "stderr",
     "output_type": "stream",
     "text": [
      "\n"
     ]
    },
    {
     "name": "stdout",
     "output_type": "stream",
     "text": [
      "\n",
      "      Epoch    GPU_mem   box_loss   cls_loss   dfl_loss  Instances       Size\n"
     ]
    },
    {
     "name": "stderr",
     "output_type": "stream",
     "text": [
      "     14/100      6.26G      1.276      4.044      1.118       2414        640: 100%|██████████| 100/100 [00:24<00:00,  4.13it/s]\n",
      "                 Class     Images  Instances      Box(P          R      mAP50  mAP50-95): 100%|██████████| 7/7 [00:07<00:00,  1.04s/it]"
     ]
    },
    {
     "name": "stdout",
     "output_type": "stream",
     "text": [
      "                   all        100      19600    0.00484    0.00903    0.00265    0.00224\n"
     ]
    },
    {
     "name": "stderr",
     "output_type": "stream",
     "text": [
      "\n"
     ]
    },
    {
     "name": "stdout",
     "output_type": "stream",
     "text": [
      "\n",
      "      Epoch    GPU_mem   box_loss   cls_loss   dfl_loss  Instances       Size\n"
     ]
    },
    {
     "name": "stderr",
     "output_type": "stream",
     "text": [
      "     15/100       3.8G      1.235      4.018      1.102       1891        640: 100%|██████████| 100/100 [00:23<00:00,  4.18it/s]\n",
      "                 Class     Images  Instances      Box(P          R      mAP50  mAP50-95): 100%|██████████| 7/7 [00:07<00:00,  1.04s/it]"
     ]
    },
    {
     "name": "stdout",
     "output_type": "stream",
     "text": [
      "                   all        100      19600    0.00434    0.00923    0.00239    0.00207\n"
     ]
    },
    {
     "name": "stderr",
     "output_type": "stream",
     "text": [
      "\n"
     ]
    },
    {
     "name": "stdout",
     "output_type": "stream",
     "text": [
      "\n",
      "      Epoch    GPU_mem   box_loss   cls_loss   dfl_loss  Instances       Size\n"
     ]
    },
    {
     "name": "stderr",
     "output_type": "stream",
     "text": [
      "     16/100      4.95G      1.168      3.982      1.094       2292        640: 100%|██████████| 100/100 [00:23<00:00,  4.20it/s]\n",
      "                 Class     Images  Instances      Box(P          R      mAP50  mAP50-95): 100%|██████████| 7/7 [00:07<00:00,  1.05s/it]"
     ]
    },
    {
     "name": "stdout",
     "output_type": "stream",
     "text": [
      "                   all        100      19600    0.00413    0.00903     0.0023    0.00199\n"
     ]
    },
    {
     "name": "stderr",
     "output_type": "stream",
     "text": [
      "\n"
     ]
    },
    {
     "name": "stdout",
     "output_type": "stream",
     "text": [
      "\n",
      "      Epoch    GPU_mem   box_loss   cls_loss   dfl_loss  Instances       Size\n"
     ]
    },
    {
     "name": "stderr",
     "output_type": "stream",
     "text": [
      "     17/100      6.09G      1.174      3.969      1.085       1515        640: 100%|██████████| 100/100 [00:24<00:00,  4.15it/s]\n",
      "                 Class     Images  Instances      Box(P          R      mAP50  mAP50-95): 100%|██████████| 7/7 [00:07<00:00,  1.05s/it]"
     ]
    },
    {
     "name": "stdout",
     "output_type": "stream",
     "text": [
      "                   all        100      19600    0.00491    0.00913    0.00273    0.00236\n"
     ]
    },
    {
     "name": "stderr",
     "output_type": "stream",
     "text": [
      "\n"
     ]
    },
    {
     "name": "stdout",
     "output_type": "stream",
     "text": [
      "\n",
      "      Epoch    GPU_mem   box_loss   cls_loss   dfl_loss  Instances       Size\n"
     ]
    },
    {
     "name": "stderr",
     "output_type": "stream",
     "text": [
      "     18/100      5.19G      1.156      3.948      1.086       2115        640: 100%|██████████| 100/100 [00:24<00:00,  4.15it/s]\n",
      "                 Class     Images  Instances      Box(P          R      mAP50  mAP50-95): 100%|██████████| 7/7 [00:07<00:00,  1.07s/it]"
     ]
    },
    {
     "name": "stdout",
     "output_type": "stream",
     "text": [
      "                   all        100      19600    0.00439    0.00908    0.00243    0.00213\n"
     ]
    },
    {
     "name": "stderr",
     "output_type": "stream",
     "text": [
      "\n"
     ]
    },
    {
     "name": "stdout",
     "output_type": "stream",
     "text": [
      "\n",
      "      Epoch    GPU_mem   box_loss   cls_loss   dfl_loss  Instances       Size\n"
     ]
    },
    {
     "name": "stderr",
     "output_type": "stream",
     "text": [
      "     19/100      6.06G      1.148      3.937      1.076       2483        640: 100%|██████████| 100/100 [00:24<00:00,  4.10it/s]\n",
      "                 Class     Images  Instances      Box(P          R      mAP50  mAP50-95): 100%|██████████| 7/7 [00:07<00:00,  1.05s/it]"
     ]
    },
    {
     "name": "stdout",
     "output_type": "stream",
     "text": [
      "                   all        100      19600    0.00578    0.00944    0.00315     0.0027\n"
     ]
    },
    {
     "name": "stderr",
     "output_type": "stream",
     "text": [
      "\n"
     ]
    },
    {
     "name": "stdout",
     "output_type": "stream",
     "text": [
      "\n",
      "      Epoch    GPU_mem   box_loss   cls_loss   dfl_loss  Instances       Size\n"
     ]
    },
    {
     "name": "stderr",
     "output_type": "stream",
     "text": [
      "     20/100      5.63G      1.165      3.926      1.082       1914        640: 100%|██████████| 100/100 [00:23<00:00,  4.19it/s]\n",
      "                 Class     Images  Instances      Box(P          R      mAP50  mAP50-95): 100%|██████████| 7/7 [00:07<00:00,  1.05s/it]"
     ]
    },
    {
     "name": "stdout",
     "output_type": "stream",
     "text": [
      "                   all        100      19600     0.0052    0.00969    0.00285    0.00252\n"
     ]
    },
    {
     "name": "stderr",
     "output_type": "stream",
     "text": [
      "\n"
     ]
    },
    {
     "name": "stdout",
     "output_type": "stream",
     "text": [
      "\n",
      "      Epoch    GPU_mem   box_loss   cls_loss   dfl_loss  Instances       Size\n"
     ]
    },
    {
     "name": "stderr",
     "output_type": "stream",
     "text": [
      "     21/100      4.72G      1.102      3.881      1.078       2585        640: 100%|██████████| 100/100 [00:24<00:00,  4.15it/s]\n",
      "                 Class     Images  Instances      Box(P          R      mAP50  mAP50-95): 100%|██████████| 7/7 [00:07<00:00,  1.05s/it]"
     ]
    },
    {
     "name": "stdout",
     "output_type": "stream",
     "text": [
      "                   all        100      19600    0.00473    0.00898    0.00259    0.00223\n"
     ]
    },
    {
     "name": "stderr",
     "output_type": "stream",
     "text": [
      "\n"
     ]
    },
    {
     "name": "stdout",
     "output_type": "stream",
     "text": [
      "\n",
      "      Epoch    GPU_mem   box_loss   cls_loss   dfl_loss  Instances       Size\n"
     ]
    },
    {
     "name": "stderr",
     "output_type": "stream",
     "text": [
      "     22/100      4.73G      1.067      3.856      1.065       2014        640: 100%|██████████| 100/100 [00:23<00:00,  4.20it/s]\n",
      "                 Class     Images  Instances      Box(P          R      mAP50  mAP50-95): 100%|██████████| 7/7 [00:07<00:00,  1.06s/it]"
     ]
    },
    {
     "name": "stdout",
     "output_type": "stream",
     "text": [
      "                   all        100      19600    0.00377    0.00918    0.00213    0.00189\n"
     ]
    },
    {
     "name": "stderr",
     "output_type": "stream",
     "text": [
      "\n"
     ]
    },
    {
     "name": "stdout",
     "output_type": "stream",
     "text": [
      "\n",
      "      Epoch    GPU_mem   box_loss   cls_loss   dfl_loss  Instances       Size\n"
     ]
    },
    {
     "name": "stderr",
     "output_type": "stream",
     "text": [
      "     23/100      3.81G      1.071      3.855      1.053       2492        640: 100%|██████████| 100/100 [00:24<00:00,  4.16it/s]\n",
      "                 Class     Images  Instances      Box(P          R      mAP50  mAP50-95): 100%|██████████| 7/7 [00:07<00:00,  1.06s/it]"
     ]
    },
    {
     "name": "stdout",
     "output_type": "stream",
     "text": [
      "                   all        100      19600    0.00442     0.0101    0.00248    0.00222\n"
     ]
    },
    {
     "name": "stderr",
     "output_type": "stream",
     "text": [
      "\n"
     ]
    },
    {
     "name": "stdout",
     "output_type": "stream",
     "text": [
      "\n",
      "      Epoch    GPU_mem   box_loss   cls_loss   dfl_loss  Instances       Size\n"
     ]
    },
    {
     "name": "stderr",
     "output_type": "stream",
     "text": [
      "     24/100      5.76G      1.094      3.849      1.058       1846        640: 100%|██████████| 100/100 [00:23<00:00,  4.18it/s]\n",
      "                 Class     Images  Instances      Box(P          R      mAP50  mAP50-95): 100%|██████████| 7/7 [00:07<00:00,  1.06s/it]"
     ]
    },
    {
     "name": "stdout",
     "output_type": "stream",
     "text": [
      "                   all        100      19600    0.00466     0.0105    0.00263    0.00232\n"
     ]
    },
    {
     "name": "stderr",
     "output_type": "stream",
     "text": [
      "\n"
     ]
    },
    {
     "name": "stdout",
     "output_type": "stream",
     "text": [
      "\n",
      "      Epoch    GPU_mem   box_loss   cls_loss   dfl_loss  Instances       Size\n"
     ]
    },
    {
     "name": "stderr",
     "output_type": "stream",
     "text": [
      "     25/100      5.19G      1.061       3.83      1.056       2337        640: 100%|██████████| 100/100 [00:23<00:00,  4.19it/s]\n",
      "                 Class     Images  Instances      Box(P          R      mAP50  mAP50-95): 100%|██████████| 7/7 [00:07<00:00,  1.06s/it]"
     ]
    },
    {
     "name": "stdout",
     "output_type": "stream",
     "text": [
      "                   all        100      19600    0.00459     0.0106    0.00259    0.00232\n"
     ]
    },
    {
     "name": "stderr",
     "output_type": "stream",
     "text": [
      "\n"
     ]
    },
    {
     "name": "stdout",
     "output_type": "stream",
     "text": [
      "\n",
      "      Epoch    GPU_mem   box_loss   cls_loss   dfl_loss  Instances       Size\n"
     ]
    },
    {
     "name": "stderr",
     "output_type": "stream",
     "text": [
      "     26/100       6.6G      1.042      3.819      1.046       1650        640: 100%|██████████| 100/100 [00:23<00:00,  4.17it/s]\n",
      "                 Class     Images  Instances      Box(P          R      mAP50  mAP50-95): 100%|██████████| 7/7 [00:07<00:00,  1.06s/it]"
     ]
    },
    {
     "name": "stdout",
     "output_type": "stream",
     "text": [
      "                   all        100      19600    0.00386     0.0103    0.00225    0.00202\n"
     ]
    },
    {
     "name": "stderr",
     "output_type": "stream",
     "text": [
      "\n"
     ]
    },
    {
     "name": "stdout",
     "output_type": "stream",
     "text": [
      "\n",
      "      Epoch    GPU_mem   box_loss   cls_loss   dfl_loss  Instances       Size\n"
     ]
    },
    {
     "name": "stderr",
     "output_type": "stream",
     "text": [
      "     27/100      5.66G     0.9848      3.778      1.044       1811        640: 100%|██████████| 100/100 [00:24<00:00,  4.14it/s]\n",
      "                 Class     Images  Instances      Box(P          R      mAP50  mAP50-95): 100%|██████████| 7/7 [00:07<00:00,  1.07s/it]"
     ]
    },
    {
     "name": "stdout",
     "output_type": "stream",
     "text": [
      "                   all        100      19600    0.00386     0.0103    0.00226    0.00201\n"
     ]
    },
    {
     "name": "stderr",
     "output_type": "stream",
     "text": [
      "\n"
     ]
    },
    {
     "name": "stdout",
     "output_type": "stream",
     "text": [
      "\n",
      "      Epoch    GPU_mem   box_loss   cls_loss   dfl_loss  Instances       Size\n"
     ]
    },
    {
     "name": "stderr",
     "output_type": "stream",
     "text": [
      "     28/100      4.56G     0.9741      3.763      1.033       1628        640: 100%|██████████| 100/100 [00:23<00:00,  4.18it/s]\n",
      "                 Class     Images  Instances      Box(P          R      mAP50  mAP50-95): 100%|██████████| 7/7 [00:07<00:00,  1.06s/it]"
     ]
    },
    {
     "name": "stdout",
     "output_type": "stream",
     "text": [
      "                   all        100      19600    0.00332     0.0098    0.00201    0.00179\n"
     ]
    },
    {
     "name": "stderr",
     "output_type": "stream",
     "text": [
      "\n"
     ]
    },
    {
     "name": "stdout",
     "output_type": "stream",
     "text": [
      "\n",
      "      Epoch    GPU_mem   box_loss   cls_loss   dfl_loss  Instances       Size\n"
     ]
    },
    {
     "name": "stderr",
     "output_type": "stream",
     "text": [
      "     29/100      5.01G      1.031      3.775      1.045       2679        640: 100%|██████████| 100/100 [00:23<00:00,  4.20it/s]\n",
      "                 Class     Images  Instances      Box(P          R      mAP50  mAP50-95): 100%|██████████| 7/7 [00:07<00:00,  1.06s/it]"
     ]
    },
    {
     "name": "stdout",
     "output_type": "stream",
     "text": [
      "                   all        100      19600    0.00374     0.0106    0.00222      0.002\n"
     ]
    },
    {
     "name": "stderr",
     "output_type": "stream",
     "text": [
      "\n"
     ]
    },
    {
     "name": "stdout",
     "output_type": "stream",
     "text": [
      "\n",
      "      Epoch    GPU_mem   box_loss   cls_loss   dfl_loss  Instances       Size\n"
     ]
    },
    {
     "name": "stderr",
     "output_type": "stream",
     "text": [
      "     30/100      5.17G     0.9798      3.745      1.048       1755        640: 100%|██████████| 100/100 [00:23<00:00,  4.21it/s]\n",
      "                 Class     Images  Instances      Box(P          R      mAP50  mAP50-95): 100%|██████████| 7/7 [00:07<00:00,  1.06s/it]"
     ]
    },
    {
     "name": "stdout",
     "output_type": "stream",
     "text": [
      "                   all        100      19600    0.00354     0.0104    0.00211    0.00189\n"
     ]
    },
    {
     "name": "stderr",
     "output_type": "stream",
     "text": [
      "\n"
     ]
    },
    {
     "name": "stdout",
     "output_type": "stream",
     "text": [
      "\n",
      "      Epoch    GPU_mem   box_loss   cls_loss   dfl_loss  Instances       Size\n"
     ]
    },
    {
     "name": "stderr",
     "output_type": "stream",
     "text": [
      "     31/100      4.96G     0.9986      3.743      1.034       2086        640: 100%|██████████| 100/100 [00:24<00:00,  4.14it/s]\n",
      "                 Class     Images  Instances      Box(P          R      mAP50  mAP50-95): 100%|██████████| 7/7 [00:07<00:00,  1.06s/it]"
     ]
    },
    {
     "name": "stdout",
     "output_type": "stream",
     "text": [
      "                   all        100      19600    0.00434      0.011    0.00254    0.00227\n"
     ]
    },
    {
     "name": "stderr",
     "output_type": "stream",
     "text": [
      "\n"
     ]
    },
    {
     "name": "stdout",
     "output_type": "stream",
     "text": [
      "\n",
      "      Epoch    GPU_mem   box_loss   cls_loss   dfl_loss  Instances       Size\n"
     ]
    },
    {
     "name": "stderr",
     "output_type": "stream",
     "text": [
      "     32/100      6.42G     0.9932      3.739      1.031       2650        640: 100%|██████████| 100/100 [00:23<00:00,  4.18it/s]\n",
      "                 Class     Images  Instances      Box(P          R      mAP50  mAP50-95): 100%|██████████| 7/7 [00:07<00:00,  1.06s/it]"
     ]
    },
    {
     "name": "stdout",
     "output_type": "stream",
     "text": [
      "                   all        100      19600    0.00502     0.0113    0.00289    0.00258\n"
     ]
    },
    {
     "name": "stderr",
     "output_type": "stream",
     "text": [
      "\n"
     ]
    },
    {
     "name": "stdout",
     "output_type": "stream",
     "text": [
      "\n",
      "      Epoch    GPU_mem   box_loss   cls_loss   dfl_loss  Instances       Size\n"
     ]
    },
    {
     "name": "stderr",
     "output_type": "stream",
     "text": [
      "     33/100       3.8G     0.9747      3.719      1.021       2080        640: 100%|██████████| 100/100 [00:23<00:00,  4.18it/s]\n",
      "                 Class     Images  Instances      Box(P          R      mAP50  mAP50-95): 100%|██████████| 7/7 [00:07<00:00,  1.06s/it]"
     ]
    },
    {
     "name": "stdout",
     "output_type": "stream",
     "text": [
      "                   all        100      19600    0.00613     0.0115    0.00347    0.00305\n"
     ]
    },
    {
     "name": "stderr",
     "output_type": "stream",
     "text": [
      "\n"
     ]
    },
    {
     "name": "stdout",
     "output_type": "stream",
     "text": [
      "\n",
      "      Epoch    GPU_mem   box_loss   cls_loss   dfl_loss  Instances       Size\n"
     ]
    },
    {
     "name": "stderr",
     "output_type": "stream",
     "text": [
      "     34/100      4.15G     0.9242      3.692       1.02       2043        640: 100%|██████████| 100/100 [00:23<00:00,  4.21it/s]\n",
      "                 Class     Images  Instances      Box(P          R      mAP50  mAP50-95): 100%|██████████| 7/7 [00:07<00:00,  1.06s/it]"
     ]
    },
    {
     "name": "stdout",
     "output_type": "stream",
     "text": [
      "                   all        100      19600    0.00447     0.0119    0.00263    0.00232\n"
     ]
    },
    {
     "name": "stderr",
     "output_type": "stream",
     "text": [
      "\n"
     ]
    },
    {
     "name": "stdout",
     "output_type": "stream",
     "text": [
      "\n",
      "      Epoch    GPU_mem   box_loss   cls_loss   dfl_loss  Instances       Size\n"
     ]
    },
    {
     "name": "stderr",
     "output_type": "stream",
     "text": [
      "     35/100      4.69G     0.9595      3.697      1.017       1444        640: 100%|██████████| 100/100 [00:24<00:00,  4.13it/s]\n",
      "                 Class     Images  Instances      Box(P          R      mAP50  mAP50-95): 100%|██████████| 7/7 [00:07<00:00,  1.06s/it]"
     ]
    },
    {
     "name": "stdout",
     "output_type": "stream",
     "text": [
      "                   all        100      19600      0.009     0.0108    0.00489    0.00469\n"
     ]
    },
    {
     "name": "stderr",
     "output_type": "stream",
     "text": [
      "\n"
     ]
    },
    {
     "name": "stdout",
     "output_type": "stream",
     "text": [
      "\n",
      "      Epoch    GPU_mem   box_loss   cls_loss   dfl_loss  Instances       Size\n"
     ]
    },
    {
     "name": "stderr",
     "output_type": "stream",
     "text": [
      "     36/100      5.44G     0.9282       3.68      1.016       2132        640: 100%|██████████| 100/100 [00:24<00:00,  4.15it/s]\n",
      "                 Class     Images  Instances      Box(P          R      mAP50  mAP50-95): 100%|██████████| 7/7 [00:07<00:00,  1.06s/it]"
     ]
    },
    {
     "name": "stdout",
     "output_type": "stream",
     "text": [
      "                   all        100      19600    0.00945     0.0106    0.00511    0.00485\n"
     ]
    },
    {
     "name": "stderr",
     "output_type": "stream",
     "text": [
      "\n"
     ]
    },
    {
     "name": "stdout",
     "output_type": "stream",
     "text": [
      "\n",
      "      Epoch    GPU_mem   box_loss   cls_loss   dfl_loss  Instances       Size\n"
     ]
    },
    {
     "name": "stderr",
     "output_type": "stream",
     "text": [
      "     37/100      4.95G     0.9502      3.684      1.015       2443        640: 100%|██████████| 100/100 [00:24<00:00,  4.12it/s]\n",
      "                 Class     Images  Instances      Box(P          R      mAP50  mAP50-95): 100%|██████████| 7/7 [00:07<00:00,  1.07s/it]"
     ]
    },
    {
     "name": "stdout",
     "output_type": "stream",
     "text": [
      "                   all        100      19600    0.00871     0.0107    0.00475    0.00429\n"
     ]
    },
    {
     "name": "stderr",
     "output_type": "stream",
     "text": [
      "\n"
     ]
    },
    {
     "name": "stdout",
     "output_type": "stream",
     "text": [
      "\n",
      "      Epoch    GPU_mem   box_loss   cls_loss   dfl_loss  Instances       Size\n"
     ]
    },
    {
     "name": "stderr",
     "output_type": "stream",
     "text": [
      "     38/100      5.53G     0.8867      3.648      1.008       1620        640: 100%|██████████| 100/100 [00:23<00:00,  4.19it/s]\n",
      "                 Class     Images  Instances      Box(P          R      mAP50  mAP50-95): 100%|██████████| 7/7 [00:07<00:00,  1.08s/it]"
     ]
    },
    {
     "name": "stdout",
     "output_type": "stream",
     "text": [
      "                   all        100      19600    0.00962     0.0106    0.00523    0.00499\n"
     ]
    },
    {
     "name": "stderr",
     "output_type": "stream",
     "text": [
      "\n"
     ]
    },
    {
     "name": "stdout",
     "output_type": "stream",
     "text": [
      "\n",
      "      Epoch    GPU_mem   box_loss   cls_loss   dfl_loss  Instances       Size\n"
     ]
    },
    {
     "name": "stderr",
     "output_type": "stream",
     "text": [
      "     39/100      5.73G       0.91      3.655      1.005       1509        640: 100%|██████████| 100/100 [00:24<00:00,  4.11it/s]\n",
      "                 Class     Images  Instances      Box(P          R      mAP50  mAP50-95): 100%|██████████| 7/7 [00:07<00:00,  1.07s/it]"
     ]
    },
    {
     "name": "stdout",
     "output_type": "stream",
     "text": [
      "                   all        100      19600     0.0104     0.0108    0.00562    0.00528\n"
     ]
    },
    {
     "name": "stderr",
     "output_type": "stream",
     "text": [
      "\n"
     ]
    },
    {
     "name": "stdout",
     "output_type": "stream",
     "text": [
      "\n",
      "      Epoch    GPU_mem   box_loss   cls_loss   dfl_loss  Instances       Size\n"
     ]
    },
    {
     "name": "stderr",
     "output_type": "stream",
     "text": [
      "     40/100      4.47G     0.8872      3.646      1.006       1235        640: 100%|██████████| 100/100 [00:24<00:00,  4.15it/s]\n",
      "                 Class     Images  Instances      Box(P          R      mAP50  mAP50-95): 100%|██████████| 7/7 [00:07<00:00,  1.07s/it]"
     ]
    },
    {
     "name": "stdout",
     "output_type": "stream",
     "text": [
      "                   all        100      19600    0.00869     0.0107    0.00475    0.00429\n"
     ]
    },
    {
     "name": "stderr",
     "output_type": "stream",
     "text": [
      "\n"
     ]
    },
    {
     "name": "stdout",
     "output_type": "stream",
     "text": [
      "\n",
      "      Epoch    GPU_mem   box_loss   cls_loss   dfl_loss  Instances       Size\n"
     ]
    },
    {
     "name": "stderr",
     "output_type": "stream",
     "text": [
      "     41/100      5.61G     0.8697      3.632      1.004       2343        640: 100%|██████████| 100/100 [00:24<00:00,  4.16it/s]\n",
      "                 Class     Images  Instances      Box(P          R      mAP50  mAP50-95): 100%|██████████| 7/7 [00:07<00:00,  1.06s/it]"
     ]
    },
    {
     "name": "stdout",
     "output_type": "stream",
     "text": [
      "                   all        100      19600    0.00938     0.0109    0.00511    0.00489\n"
     ]
    },
    {
     "name": "stderr",
     "output_type": "stream",
     "text": [
      "\n"
     ]
    },
    {
     "name": "stdout",
     "output_type": "stream",
     "text": [
      "\n",
      "      Epoch    GPU_mem   box_loss   cls_loss   dfl_loss  Instances       Size\n"
     ]
    },
    {
     "name": "stderr",
     "output_type": "stream",
     "text": [
      "     42/100      6.91G     0.9027      3.633     0.9957       2331        640: 100%|██████████| 100/100 [00:24<00:00,  4.12it/s]\n",
      "                 Class     Images  Instances      Box(P          R      mAP50  mAP50-95): 100%|██████████| 7/7 [00:07<00:00,  1.07s/it]"
     ]
    },
    {
     "name": "stdout",
     "output_type": "stream",
     "text": [
      "                   all        100      19600    0.00882     0.0114    0.00485    0.00466\n"
     ]
    },
    {
     "name": "stderr",
     "output_type": "stream",
     "text": [
      "\n"
     ]
    },
    {
     "name": "stdout",
     "output_type": "stream",
     "text": [
      "\n",
      "      Epoch    GPU_mem   box_loss   cls_loss   dfl_loss  Instances       Size\n"
     ]
    },
    {
     "name": "stderr",
     "output_type": "stream",
     "text": [
      "     43/100      5.41G     0.8693      3.619      1.002       2238        640: 100%|██████████| 100/100 [00:24<00:00,  4.14it/s]\n",
      "                 Class     Images  Instances      Box(P          R      mAP50  mAP50-95): 100%|██████████| 7/7 [00:07<00:00,  1.07s/it]"
     ]
    },
    {
     "name": "stdout",
     "output_type": "stream",
     "text": [
      "                   all        100      19600     0.0095      0.011    0.00518    0.00469\n"
     ]
    },
    {
     "name": "stderr",
     "output_type": "stream",
     "text": [
      "\n"
     ]
    },
    {
     "name": "stdout",
     "output_type": "stream",
     "text": [
      "\n",
      "      Epoch    GPU_mem   box_loss   cls_loss   dfl_loss  Instances       Size\n"
     ]
    },
    {
     "name": "stderr",
     "output_type": "stream",
     "text": [
      "     44/100      5.71G      0.869      3.616      1.009       2499        640: 100%|██████████| 100/100 [00:24<00:00,  4.10it/s]\n",
      "                 Class     Images  Instances      Box(P          R      mAP50  mAP50-95): 100%|██████████| 7/7 [00:07<00:00,  1.06s/it]"
     ]
    },
    {
     "name": "stdout",
     "output_type": "stream",
     "text": [
      "                   all        100      19600    0.00877      0.011    0.00482    0.00463\n"
     ]
    },
    {
     "name": "stderr",
     "output_type": "stream",
     "text": [
      "\n"
     ]
    },
    {
     "name": "stdout",
     "output_type": "stream",
     "text": [
      "\n",
      "      Epoch    GPU_mem   box_loss   cls_loss   dfl_loss  Instances       Size\n"
     ]
    },
    {
     "name": "stderr",
     "output_type": "stream",
     "text": [
      "     45/100      4.32G     0.8483      3.604      1.002       1576        640: 100%|██████████| 100/100 [00:24<00:00,  4.14it/s]\n",
      "                 Class     Images  Instances      Box(P          R      mAP50  mAP50-95): 100%|██████████| 7/7 [00:07<00:00,  1.08s/it]"
     ]
    },
    {
     "name": "stdout",
     "output_type": "stream",
     "text": [
      "                   all        100      19600    0.00831     0.0108     0.0046    0.00441\n"
     ]
    },
    {
     "name": "stderr",
     "output_type": "stream",
     "text": [
      "\n"
     ]
    },
    {
     "name": "stdout",
     "output_type": "stream",
     "text": [
      "\n",
      "      Epoch    GPU_mem   box_loss   cls_loss   dfl_loss  Instances       Size\n"
     ]
    },
    {
     "name": "stderr",
     "output_type": "stream",
     "text": [
      "     46/100      4.23G     0.8462      3.599     0.9906       2082        640: 100%|██████████| 100/100 [00:24<00:00,  4.17it/s]\n",
      "                 Class     Images  Instances      Box(P          R      mAP50  mAP50-95): 100%|██████████| 7/7 [00:07<00:00,  1.07s/it]"
     ]
    },
    {
     "name": "stdout",
     "output_type": "stream",
     "text": [
      "                   all        100      19600    0.00363     0.0109    0.00225    0.00206\n"
     ]
    },
    {
     "name": "stderr",
     "output_type": "stream",
     "text": [
      "\n"
     ]
    },
    {
     "name": "stdout",
     "output_type": "stream",
     "text": [
      "\n",
      "      Epoch    GPU_mem   box_loss   cls_loss   dfl_loss  Instances       Size\n"
     ]
    },
    {
     "name": "stderr",
     "output_type": "stream",
     "text": [
      "     47/100      5.34G       0.85      3.594     0.9894       1195        640: 100%|██████████| 100/100 [00:24<00:00,  4.16it/s]\n",
      "                 Class     Images  Instances      Box(P          R      mAP50  mAP50-95): 100%|██████████| 7/7 [00:07<00:00,  1.06s/it]"
     ]
    },
    {
     "name": "stdout",
     "output_type": "stream",
     "text": [
      "                   all        100      19600    0.00343     0.0105    0.00219    0.00199\n"
     ]
    },
    {
     "name": "stderr",
     "output_type": "stream",
     "text": [
      "\n"
     ]
    },
    {
     "name": "stdout",
     "output_type": "stream",
     "text": [
      "\n",
      "      Epoch    GPU_mem   box_loss   cls_loss   dfl_loss  Instances       Size\n"
     ]
    },
    {
     "name": "stderr",
     "output_type": "stream",
     "text": [
      "     48/100      5.71G     0.8626      3.597     0.9935       1656        640: 100%|██████████| 100/100 [00:24<00:00,  4.12it/s]\n",
      "                 Class     Images  Instances      Box(P          R      mAP50  mAP50-95): 100%|██████████| 7/7 [00:07<00:00,  1.06s/it]"
     ]
    },
    {
     "name": "stdout",
     "output_type": "stream",
     "text": [
      "                   all        100      19600    0.00413     0.0107    0.00253    0.00232\n"
     ]
    },
    {
     "name": "stderr",
     "output_type": "stream",
     "text": [
      "\n"
     ]
    },
    {
     "name": "stdout",
     "output_type": "stream",
     "text": [
      "\n",
      "      Epoch    GPU_mem   box_loss   cls_loss   dfl_loss  Instances       Size\n"
     ]
    },
    {
     "name": "stderr",
     "output_type": "stream",
     "text": [
      "     49/100      3.84G     0.8412      3.587     0.9937       1562        640: 100%|██████████| 100/100 [00:24<00:00,  4.15it/s]\n",
      "                 Class     Images  Instances      Box(P          R      mAP50  mAP50-95): 100%|██████████| 7/7 [00:07<00:00,  1.06s/it]"
     ]
    },
    {
     "name": "stdout",
     "output_type": "stream",
     "text": [
      "                   all        100      19600    0.00392     0.0106    0.00243    0.00222\n"
     ]
    },
    {
     "name": "stderr",
     "output_type": "stream",
     "text": [
      "\n"
     ]
    },
    {
     "name": "stdout",
     "output_type": "stream",
     "text": [
      "\n",
      "      Epoch    GPU_mem   box_loss   cls_loss   dfl_loss  Instances       Size\n"
     ]
    },
    {
     "name": "stderr",
     "output_type": "stream",
     "text": [
      "     50/100      4.92G     0.8234       3.58     0.9905       2270        640: 100%|██████████| 100/100 [00:24<00:00,  4.16it/s]\n",
      "                 Class     Images  Instances      Box(P          R      mAP50  mAP50-95): 100%|██████████| 7/7 [00:07<00:00,  1.07s/it]"
     ]
    },
    {
     "name": "stdout",
     "output_type": "stream",
     "text": [
      "                   all        100      19600    0.00477     0.0114    0.00287    0.00263\n"
     ]
    },
    {
     "name": "stderr",
     "output_type": "stream",
     "text": [
      "\n"
     ]
    },
    {
     "name": "stdout",
     "output_type": "stream",
     "text": [
      "\n",
      "      Epoch    GPU_mem   box_loss   cls_loss   dfl_loss  Instances       Size\n"
     ]
    },
    {
     "name": "stderr",
     "output_type": "stream",
     "text": [
      "     51/100      5.13G     0.8145      3.568     0.9834       1200        640: 100%|██████████| 100/100 [00:24<00:00,  4.16it/s]\n",
      "                 Class     Images  Instances      Box(P          R      mAP50  mAP50-95): 100%|██████████| 7/7 [00:07<00:00,  1.06s/it]"
     ]
    },
    {
     "name": "stdout",
     "output_type": "stream",
     "text": [
      "                   all        100      19600    0.00434     0.0112    0.00267    0.00244\n"
     ]
    },
    {
     "name": "stderr",
     "output_type": "stream",
     "text": [
      "\n"
     ]
    },
    {
     "name": "stdout",
     "output_type": "stream",
     "text": [
      "\n",
      "      Epoch    GPU_mem   box_loss   cls_loss   dfl_loss  Instances       Size\n"
     ]
    },
    {
     "name": "stderr",
     "output_type": "stream",
     "text": [
      "     52/100      6.06G     0.7942      3.565       0.98       1982        640: 100%|██████████| 100/100 [00:24<00:00,  4.16it/s]\n",
      "                 Class     Images  Instances      Box(P          R      mAP50  mAP50-95): 100%|██████████| 7/7 [00:07<00:00,  1.06s/it]"
     ]
    },
    {
     "name": "stdout",
     "output_type": "stream",
     "text": [
      "                   all        100      19600    0.00439     0.0107    0.00272    0.00248\n"
     ]
    },
    {
     "name": "stderr",
     "output_type": "stream",
     "text": [
      "\n"
     ]
    },
    {
     "name": "stdout",
     "output_type": "stream",
     "text": [
      "\n",
      "      Epoch    GPU_mem   box_loss   cls_loss   dfl_loss  Instances       Size\n"
     ]
    },
    {
     "name": "stderr",
     "output_type": "stream",
     "text": [
      "     53/100       5.6G     0.8083      3.564      0.983       1943        640: 100%|██████████| 100/100 [00:24<00:00,  4.15it/s]\n",
      "                 Class     Images  Instances      Box(P          R      mAP50  mAP50-95): 100%|██████████| 7/7 [00:07<00:00,  1.06s/it]"
     ]
    },
    {
     "name": "stdout",
     "output_type": "stream",
     "text": [
      "                   all        100      19600    0.00493     0.0111      0.003    0.00273\n"
     ]
    },
    {
     "name": "stderr",
     "output_type": "stream",
     "text": [
      "\n"
     ]
    },
    {
     "name": "stdout",
     "output_type": "stream",
     "text": [
      "\n",
      "      Epoch    GPU_mem   box_loss   cls_loss   dfl_loss  Instances       Size\n"
     ]
    },
    {
     "name": "stderr",
     "output_type": "stream",
     "text": [
      "     54/100      4.87G     0.8008      3.556     0.9768       2395        640: 100%|██████████| 100/100 [00:24<00:00,  4.13it/s]\n",
      "                 Class     Images  Instances      Box(P          R      mAP50  mAP50-95): 100%|██████████| 7/7 [00:07<00:00,  1.06s/it]"
     ]
    },
    {
     "name": "stdout",
     "output_type": "stream",
     "text": [
      "                   all        100      19600    0.00512     0.0117    0.00308    0.00283\n"
     ]
    },
    {
     "name": "stderr",
     "output_type": "stream",
     "text": [
      "\n"
     ]
    },
    {
     "name": "stdout",
     "output_type": "stream",
     "text": [
      "\n",
      "      Epoch    GPU_mem   box_loss   cls_loss   dfl_loss  Instances       Size\n"
     ]
    },
    {
     "name": "stderr",
     "output_type": "stream",
     "text": [
      "     55/100      5.23G     0.7793       3.55     0.9815       1984        640: 100%|██████████| 100/100 [00:23<00:00,  4.18it/s]\n",
      "                 Class     Images  Instances      Box(P          R      mAP50  mAP50-95): 100%|██████████| 7/7 [00:07<00:00,  1.07s/it]"
     ]
    },
    {
     "name": "stdout",
     "output_type": "stream",
     "text": [
      "                   all        100      19600    0.00485     0.0112    0.00294    0.00271\n"
     ]
    },
    {
     "name": "stderr",
     "output_type": "stream",
     "text": [
      "\n"
     ]
    },
    {
     "name": "stdout",
     "output_type": "stream",
     "text": [
      "\n",
      "      Epoch    GPU_mem   box_loss   cls_loss   dfl_loss  Instances       Size\n"
     ]
    },
    {
     "name": "stderr",
     "output_type": "stream",
     "text": [
      "     56/100         7G     0.7783      3.548     0.9832       1879        640: 100%|██████████| 100/100 [00:24<00:00,  4.16it/s]\n",
      "                 Class     Images  Instances      Box(P          R      mAP50  mAP50-95): 100%|██████████| 7/7 [00:07<00:00,  1.06s/it]"
     ]
    },
    {
     "name": "stdout",
     "output_type": "stream",
     "text": [
      "                   all        100      19600    0.00677      0.012    0.00393    0.00359\n"
     ]
    },
    {
     "name": "stderr",
     "output_type": "stream",
     "text": [
      "\n"
     ]
    },
    {
     "name": "stdout",
     "output_type": "stream",
     "text": [
      "\n",
      "      Epoch    GPU_mem   box_loss   cls_loss   dfl_loss  Instances       Size\n"
     ]
    },
    {
     "name": "stderr",
     "output_type": "stream",
     "text": [
      "     57/100       3.9G     0.7603      3.539     0.9765       1128        640: 100%|██████████| 100/100 [00:23<00:00,  4.17it/s]\n",
      "                 Class     Images  Instances      Box(P          R      mAP50  mAP50-95): 100%|██████████| 7/7 [00:07<00:00,  1.06s/it]"
     ]
    },
    {
     "name": "stdout",
     "output_type": "stream",
     "text": [
      "                   all        100      19600    0.00908     0.0118    0.00511    0.00464\n"
     ]
    },
    {
     "name": "stderr",
     "output_type": "stream",
     "text": [
      "\n"
     ]
    },
    {
     "name": "stdout",
     "output_type": "stream",
     "text": [
      "\n",
      "      Epoch    GPU_mem   box_loss   cls_loss   dfl_loss  Instances       Size\n"
     ]
    },
    {
     "name": "stderr",
     "output_type": "stream",
     "text": [
      "     58/100      5.61G     0.7746      3.542     0.9806       1941        640: 100%|██████████| 100/100 [00:23<00:00,  4.17it/s]\n",
      "                 Class     Images  Instances      Box(P          R      mAP50  mAP50-95): 100%|██████████| 7/7 [00:07<00:00,  1.06s/it]"
     ]
    },
    {
     "name": "stdout",
     "output_type": "stream",
     "text": [
      "                   all        100      19600    0.00694     0.0122    0.00404    0.00369\n"
     ]
    },
    {
     "name": "stderr",
     "output_type": "stream",
     "text": [
      "\n"
     ]
    },
    {
     "name": "stdout",
     "output_type": "stream",
     "text": [
      "\n",
      "      Epoch    GPU_mem   box_loss   cls_loss   dfl_loss  Instances       Size\n"
     ]
    },
    {
     "name": "stderr",
     "output_type": "stream",
     "text": [
      "     59/100      6.08G     0.7597      3.537     0.9799       1828        640: 100%|██████████| 100/100 [00:24<00:00,  4.15it/s]\n",
      "                 Class     Images  Instances      Box(P          R      mAP50  mAP50-95): 100%|██████████| 7/7 [00:07<00:00,  1.06s/it]"
     ]
    },
    {
     "name": "stdout",
     "output_type": "stream",
     "text": [
      "                   all        100      19600    0.00584      0.012    0.00346    0.00317\n"
     ]
    },
    {
     "name": "stderr",
     "output_type": "stream",
     "text": [
      "\n"
     ]
    },
    {
     "name": "stdout",
     "output_type": "stream",
     "text": [
      "\n",
      "      Epoch    GPU_mem   box_loss   cls_loss   dfl_loss  Instances       Size\n"
     ]
    },
    {
     "name": "stderr",
     "output_type": "stream",
     "text": [
      "     60/100      9.01G     0.7544      3.535     0.9827       1862        640: 100%|██████████| 100/100 [00:34<00:00,  2.90it/s]\n",
      "                 Class     Images  Instances      Box(P          R      mAP50  mAP50-95): 100%|██████████| 7/7 [00:07<00:00,  1.07s/it]"
     ]
    },
    {
     "name": "stdout",
     "output_type": "stream",
     "text": [
      "                   all        100      19600    0.00438     0.0124    0.00272    0.00251\n"
     ]
    },
    {
     "name": "stderr",
     "output_type": "stream",
     "text": [
      "\n"
     ]
    },
    {
     "name": "stdout",
     "output_type": "stream",
     "text": [
      "\n",
      "      Epoch    GPU_mem   box_loss   cls_loss   dfl_loss  Instances       Size\n"
     ]
    },
    {
     "name": "stderr",
     "output_type": "stream",
     "text": [
      "     61/100      4.39G     0.7837      3.536      0.975       1859        640: 100%|██████████| 100/100 [00:24<00:00,  4.06it/s]\n",
      "                 Class     Images  Instances      Box(P          R      mAP50  mAP50-95): 100%|██████████| 7/7 [00:07<00:00,  1.06s/it]"
     ]
    },
    {
     "name": "stdout",
     "output_type": "stream",
     "text": [
      "                   all        100      19600    0.00459     0.0126    0.00285    0.00262\n"
     ]
    },
    {
     "name": "stderr",
     "output_type": "stream",
     "text": [
      "\n"
     ]
    },
    {
     "name": "stdout",
     "output_type": "stream",
     "text": [
      "\n",
      "      Epoch    GPU_mem   box_loss   cls_loss   dfl_loss  Instances       Size\n"
     ]
    },
    {
     "name": "stderr",
     "output_type": "stream",
     "text": [
      "     62/100      5.09G     0.7499      3.523     0.9654       1822        640: 100%|██████████| 100/100 [00:24<00:00,  4.15it/s]\n",
      "                 Class     Images  Instances      Box(P          R      mAP50  mAP50-95): 100%|██████████| 7/7 [00:07<00:00,  1.06s/it]"
     ]
    },
    {
     "name": "stdout",
     "output_type": "stream",
     "text": [
      "                   all        100      19600    0.00457     0.0123    0.00281     0.0026\n"
     ]
    },
    {
     "name": "stderr",
     "output_type": "stream",
     "text": [
      "\n"
     ]
    },
    {
     "name": "stdout",
     "output_type": "stream",
     "text": [
      "\n",
      "      Epoch    GPU_mem   box_loss   cls_loss   dfl_loss  Instances       Size\n"
     ]
    },
    {
     "name": "stderr",
     "output_type": "stream",
     "text": [
      "     63/100      5.99G     0.7584      3.528      0.976       2754        640: 100%|██████████| 100/100 [00:23<00:00,  4.18it/s]\n",
      "                 Class     Images  Instances      Box(P          R      mAP50  mAP50-95): 100%|██████████| 7/7 [00:07<00:00,  1.06s/it]"
     ]
    },
    {
     "name": "stdout",
     "output_type": "stream",
     "text": [
      "                   all        100      19600     0.0048     0.0127    0.00294    0.00271\n"
     ]
    },
    {
     "name": "stderr",
     "output_type": "stream",
     "text": [
      "\n"
     ]
    },
    {
     "name": "stdout",
     "output_type": "stream",
     "text": [
      "\n",
      "      Epoch    GPU_mem   box_loss   cls_loss   dfl_loss  Instances       Size\n"
     ]
    },
    {
     "name": "stderr",
     "output_type": "stream",
     "text": [
      "     64/100      5.29G     0.7569       3.52     0.9651       1733        640: 100%|██████████| 100/100 [00:24<00:00,  4.13it/s]\n",
      "                 Class     Images  Instances      Box(P          R      mAP50  mAP50-95): 100%|██████████| 7/7 [00:07<00:00,  1.06s/it]"
     ]
    },
    {
     "name": "stdout",
     "output_type": "stream",
     "text": [
      "                   all        100      19600     0.0101     0.0121    0.00563    0.00515\n"
     ]
    },
    {
     "name": "stderr",
     "output_type": "stream",
     "text": [
      "\n"
     ]
    },
    {
     "name": "stdout",
     "output_type": "stream",
     "text": [
      "\n",
      "      Epoch    GPU_mem   box_loss   cls_loss   dfl_loss  Instances       Size\n"
     ]
    },
    {
     "name": "stderr",
     "output_type": "stream",
     "text": [
      "     65/100      3.66G     0.7591      3.528     0.9804       2783        640: 100%|██████████| 100/100 [00:23<00:00,  4.18it/s]\n",
      "                 Class     Images  Instances      Box(P          R      mAP50  mAP50-95): 100%|██████████| 7/7 [00:07<00:00,  1.06s/it]"
     ]
    },
    {
     "name": "stdout",
     "output_type": "stream",
     "text": [
      "                   all        100      19600    0.00527     0.0132     0.0032    0.00296\n"
     ]
    },
    {
     "name": "stderr",
     "output_type": "stream",
     "text": [
      "\n"
     ]
    },
    {
     "name": "stdout",
     "output_type": "stream",
     "text": [
      "\n",
      "      Epoch    GPU_mem   box_loss   cls_loss   dfl_loss  Instances       Size\n"
     ]
    },
    {
     "name": "stderr",
     "output_type": "stream",
     "text": [
      "     66/100      5.86G     0.7504      3.519       0.97       3126        640: 100%|██████████| 100/100 [00:24<00:00,  4.15it/s]\n",
      "                 Class     Images  Instances      Box(P          R      mAP50  mAP50-95): 100%|██████████| 7/7 [00:07<00:00,  1.06s/it]"
     ]
    },
    {
     "name": "stdout",
     "output_type": "stream",
     "text": [
      "                   all        100      19600    0.00498      0.013    0.00305    0.00284\n"
     ]
    },
    {
     "name": "stderr",
     "output_type": "stream",
     "text": [
      "\n"
     ]
    },
    {
     "name": "stdout",
     "output_type": "stream",
     "text": [
      "\n",
      "      Epoch    GPU_mem   box_loss   cls_loss   dfl_loss  Instances       Size\n"
     ]
    },
    {
     "name": "stderr",
     "output_type": "stream",
     "text": [
      "     67/100      6.07G     0.7367      3.514     0.9719       2393        640: 100%|██████████| 100/100 [00:24<00:00,  4.14it/s]\n",
      "                 Class     Images  Instances      Box(P          R      mAP50  mAP50-95): 100%|██████████| 7/7 [00:07<00:00,  1.05s/it]"
     ]
    },
    {
     "name": "stdout",
     "output_type": "stream",
     "text": [
      "                   all        100      19600    0.00521     0.0129    0.00317    0.00297\n"
     ]
    },
    {
     "name": "stderr",
     "output_type": "stream",
     "text": [
      "\n"
     ]
    },
    {
     "name": "stdout",
     "output_type": "stream",
     "text": [
      "\n",
      "      Epoch    GPU_mem   box_loss   cls_loss   dfl_loss  Instances       Size\n"
     ]
    },
    {
     "name": "stderr",
     "output_type": "stream",
     "text": [
      "     68/100      3.76G     0.7268      3.509     0.9685       1603        640: 100%|██████████| 100/100 [00:23<00:00,  4.20it/s]\n",
      "                 Class     Images  Instances      Box(P          R      mAP50  mAP50-95): 100%|██████████| 7/7 [00:07<00:00,  1.05s/it]"
     ]
    },
    {
     "name": "stdout",
     "output_type": "stream",
     "text": [
      "                   all        100      19600     0.0051     0.0132    0.00311    0.00291\n"
     ]
    },
    {
     "name": "stderr",
     "output_type": "stream",
     "text": [
      "\n"
     ]
    },
    {
     "name": "stdout",
     "output_type": "stream",
     "text": [
      "\n",
      "      Epoch    GPU_mem   box_loss   cls_loss   dfl_loss  Instances       Size\n"
     ]
    },
    {
     "name": "stderr",
     "output_type": "stream",
     "text": [
      "     69/100      4.75G     0.7512      3.517     0.9731       2574        640: 100%|██████████| 100/100 [00:24<00:00,  4.15it/s]\n",
      "                 Class     Images  Instances      Box(P          R      mAP50  mAP50-95): 100%|██████████| 7/7 [00:07<00:00,  1.05s/it]"
     ]
    },
    {
     "name": "stdout",
     "output_type": "stream",
     "text": [
      "                   all        100      19600     0.0109     0.0132    0.00607    0.00559\n"
     ]
    },
    {
     "name": "stderr",
     "output_type": "stream",
     "text": [
      "\n"
     ]
    },
    {
     "name": "stdout",
     "output_type": "stream",
     "text": [
      "\n",
      "      Epoch    GPU_mem   box_loss   cls_loss   dfl_loss  Instances       Size\n"
     ]
    },
    {
     "name": "stderr",
     "output_type": "stream",
     "text": [
      "     70/100      5.16G     0.7194      3.508     0.9695       1731        640: 100%|██████████| 100/100 [00:24<00:00,  4.17it/s]\n",
      "                 Class     Images  Instances      Box(P          R      mAP50  mAP50-95): 100%|██████████| 7/7 [00:07<00:00,  1.04s/it]"
     ]
    },
    {
     "name": "stdout",
     "output_type": "stream",
     "text": [
      "                   all        100      19600    0.00604     0.0139    0.00369    0.00346\n"
     ]
    },
    {
     "name": "stderr",
     "output_type": "stream",
     "text": [
      "\n"
     ]
    },
    {
     "name": "stdout",
     "output_type": "stream",
     "text": [
      "\n",
      "      Epoch    GPU_mem   box_loss   cls_loss   dfl_loss  Instances       Size\n"
     ]
    },
    {
     "name": "stderr",
     "output_type": "stream",
     "text": [
      "     71/100      6.33G     0.7217      3.507     0.9707       2828        640: 100%|██████████| 100/100 [00:23<00:00,  4.18it/s]\n",
      "                 Class     Images  Instances      Box(P          R      mAP50  mAP50-95): 100%|██████████| 7/7 [00:07<00:00,  1.04s/it]"
     ]
    },
    {
     "name": "stdout",
     "output_type": "stream",
     "text": [
      "                   all        100      19600    0.00627     0.0145    0.00377     0.0035\n"
     ]
    },
    {
     "name": "stderr",
     "output_type": "stream",
     "text": [
      "\n"
     ]
    },
    {
     "name": "stdout",
     "output_type": "stream",
     "text": [
      "\n",
      "      Epoch    GPU_mem   box_loss   cls_loss   dfl_loss  Instances       Size\n"
     ]
    },
    {
     "name": "stderr",
     "output_type": "stream",
     "text": [
      "     72/100      5.88G     0.7072      3.501     0.9728       2007        640: 100%|██████████| 100/100 [00:23<00:00,  4.20it/s]\n",
      "                 Class     Images  Instances      Box(P          R      mAP50  mAP50-95): 100%|██████████| 7/7 [00:07<00:00,  1.04s/it]"
     ]
    },
    {
     "name": "stdout",
     "output_type": "stream",
     "text": [
      "                   all        100      19600    0.00594     0.0143     0.0036    0.00337\n"
     ]
    },
    {
     "name": "stderr",
     "output_type": "stream",
     "text": [
      "\n"
     ]
    },
    {
     "name": "stdout",
     "output_type": "stream",
     "text": [
      "\n",
      "      Epoch    GPU_mem   box_loss   cls_loss   dfl_loss  Instances       Size\n"
     ]
    },
    {
     "name": "stderr",
     "output_type": "stream",
     "text": [
      "     73/100      5.27G     0.7204      3.503     0.9695       2417        640: 100%|██████████| 100/100 [00:24<00:00,  4.01it/s]\n",
      "                 Class     Images  Instances      Box(P          R      mAP50  mAP50-95): 100%|██████████| 7/7 [00:08<00:00,  1.19s/it]"
     ]
    },
    {
     "name": "stdout",
     "output_type": "stream",
     "text": [
      "                   all        100      19600    0.00608     0.0144     0.0037    0.00345\n"
     ]
    },
    {
     "name": "stderr",
     "output_type": "stream",
     "text": [
      "\n"
     ]
    },
    {
     "name": "stdout",
     "output_type": "stream",
     "text": [
      "\n",
      "      Epoch    GPU_mem   box_loss   cls_loss   dfl_loss  Instances       Size\n"
     ]
    },
    {
     "name": "stderr",
     "output_type": "stream",
     "text": [
      "     74/100      4.22G     0.7279      3.502      0.961       1639        640: 100%|██████████| 100/100 [00:26<00:00,  3.79it/s]\n",
      "                 Class     Images  Instances      Box(P          R      mAP50  mAP50-95): 100%|██████████| 7/7 [00:08<00:00,  1.15s/it]"
     ]
    },
    {
     "name": "stdout",
     "output_type": "stream",
     "text": [
      "                   all        100      19600     0.0058     0.0143    0.00354    0.00332\n"
     ]
    },
    {
     "name": "stderr",
     "output_type": "stream",
     "text": [
      "\n"
     ]
    },
    {
     "name": "stdout",
     "output_type": "stream",
     "text": [
      "\n",
      "      Epoch    GPU_mem   box_loss   cls_loss   dfl_loss  Instances       Size\n"
     ]
    },
    {
     "name": "stderr",
     "output_type": "stream",
     "text": [
      "     75/100      5.02G     0.7131      3.499     0.9682       2629        640: 100%|██████████| 100/100 [00:25<00:00,  3.94it/s]\n",
      "                 Class     Images  Instances      Box(P          R      mAP50  mAP50-95): 100%|██████████| 7/7 [00:07<00:00,  1.08s/it]"
     ]
    },
    {
     "name": "stdout",
     "output_type": "stream",
     "text": [
      "                   all        100      19600    0.00675     0.0147    0.00403    0.00376\n"
     ]
    },
    {
     "name": "stderr",
     "output_type": "stream",
     "text": [
      "\n"
     ]
    },
    {
     "name": "stdout",
     "output_type": "stream",
     "text": [
      "\n",
      "      Epoch    GPU_mem   box_loss   cls_loss   dfl_loss  Instances       Size\n"
     ]
    },
    {
     "name": "stderr",
     "output_type": "stream",
     "text": [
      "     76/100      6.34G     0.6983      3.494     0.9643       1911        640: 100%|██████████| 100/100 [00:25<00:00,  3.99it/s]\n",
      "                 Class     Images  Instances      Box(P          R      mAP50  mAP50-95): 100%|██████████| 7/7 [00:08<00:00,  1.16s/it]"
     ]
    },
    {
     "name": "stdout",
     "output_type": "stream",
     "text": [
      "                   all        100      19600    0.00708     0.0142    0.00421    0.00393\n"
     ]
    },
    {
     "name": "stderr",
     "output_type": "stream",
     "text": [
      "\n"
     ]
    },
    {
     "name": "stdout",
     "output_type": "stream",
     "text": [
      "\n",
      "      Epoch    GPU_mem   box_loss   cls_loss   dfl_loss  Instances       Size\n"
     ]
    },
    {
     "name": "stderr",
     "output_type": "stream",
     "text": [
      "     77/100      6.08G     0.7028      3.495     0.9659       1958        640: 100%|██████████| 100/100 [00:25<00:00,  3.93it/s]\n",
      "                 Class     Images  Instances      Box(P          R      mAP50  mAP50-95): 100%|██████████| 7/7 [00:07<00:00,  1.12s/it]"
     ]
    },
    {
     "name": "stdout",
     "output_type": "stream",
     "text": [
      "                   all        100      19600    0.00593     0.0147    0.00364    0.00338\n"
     ]
    },
    {
     "name": "stderr",
     "output_type": "stream",
     "text": [
      "\n"
     ]
    },
    {
     "name": "stdout",
     "output_type": "stream",
     "text": [
      "\n",
      "      Epoch    GPU_mem   box_loss   cls_loss   dfl_loss  Instances       Size\n"
     ]
    },
    {
     "name": "stderr",
     "output_type": "stream",
     "text": [
      "     78/100      5.15G     0.7144      3.501     0.9663       1568        640: 100%|██████████| 100/100 [00:24<00:00,  4.04it/s]\n",
      "                 Class     Images  Instances      Box(P          R      mAP50  mAP50-95): 100%|██████████| 7/7 [00:09<00:00,  1.30s/it]"
     ]
    },
    {
     "name": "stdout",
     "output_type": "stream",
     "text": [
      "                   all        100      19600    0.00669      0.015    0.00402    0.00379\n"
     ]
    },
    {
     "name": "stderr",
     "output_type": "stream",
     "text": [
      "\n"
     ]
    },
    {
     "name": "stdout",
     "output_type": "stream",
     "text": [
      "\n",
      "      Epoch    GPU_mem   box_loss   cls_loss   dfl_loss  Instances       Size\n"
     ]
    },
    {
     "name": "stderr",
     "output_type": "stream",
     "text": [
      "     79/100      4.43G     0.6998      3.489     0.9629       1755        640: 100%|██████████| 100/100 [00:27<00:00,  3.66it/s]\n",
      "                 Class     Images  Instances      Box(P          R      mAP50  mAP50-95): 100%|██████████| 7/7 [00:08<00:00,  1.27s/it]"
     ]
    },
    {
     "name": "stdout",
     "output_type": "stream",
     "text": [
      "                   all        100      19600    0.00723     0.0154    0.00434    0.00404\n"
     ]
    },
    {
     "name": "stderr",
     "output_type": "stream",
     "text": [
      "\n"
     ]
    },
    {
     "name": "stdout",
     "output_type": "stream",
     "text": [
      "\n",
      "      Epoch    GPU_mem   box_loss   cls_loss   dfl_loss  Instances       Size\n"
     ]
    },
    {
     "name": "stderr",
     "output_type": "stream",
     "text": [
      "     80/100      5.43G     0.6922      3.489      0.967       2326        640: 100%|██████████| 100/100 [00:25<00:00,  3.87it/s]\n",
      "                 Class     Images  Instances      Box(P          R      mAP50  mAP50-95): 100%|██████████| 7/7 [00:08<00:00,  1.28s/it]"
     ]
    },
    {
     "name": "stdout",
     "output_type": "stream",
     "text": [
      "                   all        100      19600    0.00651      0.015    0.00393    0.00369\n"
     ]
    },
    {
     "name": "stderr",
     "output_type": "stream",
     "text": [
      "\n"
     ]
    },
    {
     "name": "stdout",
     "output_type": "stream",
     "text": [
      "\n",
      "      Epoch    GPU_mem   box_loss   cls_loss   dfl_loss  Instances       Size\n"
     ]
    },
    {
     "name": "stderr",
     "output_type": "stream",
     "text": [
      "     81/100      4.93G     0.6972      3.493     0.9633       1745        640: 100%|██████████| 100/100 [00:26<00:00,  3.80it/s]\n",
      "                 Class     Images  Instances      Box(P          R      mAP50  mAP50-95): 100%|██████████| 7/7 [00:08<00:00,  1.24s/it]"
     ]
    },
    {
     "name": "stdout",
     "output_type": "stream",
     "text": [
      "                   all        100      19600    0.00521     0.0147    0.00329    0.00306\n"
     ]
    },
    {
     "name": "stderr",
     "output_type": "stream",
     "text": [
      "\n"
     ]
    },
    {
     "name": "stdout",
     "output_type": "stream",
     "text": [
      "\n",
      "      Epoch    GPU_mem   box_loss   cls_loss   dfl_loss  Instances       Size\n"
     ]
    },
    {
     "name": "stderr",
     "output_type": "stream",
     "text": [
      "     82/100      5.65G       0.69      3.489     0.9618       1761        640: 100%|██████████| 100/100 [00:26<00:00,  3.84it/s]\n",
      "                 Class     Images  Instances      Box(P          R      mAP50  mAP50-95): 100%|██████████| 7/7 [00:09<00:00,  1.29s/it]"
     ]
    },
    {
     "name": "stdout",
     "output_type": "stream",
     "text": [
      "                   all        100      19600    0.00653     0.0145    0.00396    0.00372\n"
     ]
    },
    {
     "name": "stderr",
     "output_type": "stream",
     "text": [
      "\n"
     ]
    },
    {
     "name": "stdout",
     "output_type": "stream",
     "text": [
      "\n",
      "      Epoch    GPU_mem   box_loss   cls_loss   dfl_loss  Instances       Size\n"
     ]
    },
    {
     "name": "stderr",
     "output_type": "stream",
     "text": [
      "     83/100      6.32G     0.6978       3.49     0.9636       2663        640: 100%|██████████| 100/100 [00:27<00:00,  3.69it/s]\n",
      "                 Class     Images  Instances      Box(P          R      mAP50  mAP50-95): 100%|██████████| 7/7 [00:09<00:00,  1.31s/it]"
     ]
    },
    {
     "name": "stdout",
     "output_type": "stream",
     "text": [
      "                   all        100      19600    0.00603     0.0148    0.00373    0.00348\n"
     ]
    },
    {
     "name": "stderr",
     "output_type": "stream",
     "text": [
      "\n"
     ]
    },
    {
     "name": "stdout",
     "output_type": "stream",
     "text": [
      "\n",
      "      Epoch    GPU_mem   box_loss   cls_loss   dfl_loss  Instances       Size\n"
     ]
    },
    {
     "name": "stderr",
     "output_type": "stream",
     "text": [
      "     84/100      6.76G     0.7168      3.492     0.9665       3253        640: 100%|██████████| 100/100 [00:27<00:00,  3.70it/s]\n",
      "                 Class     Images  Instances      Box(P          R      mAP50  mAP50-95): 100%|██████████| 7/7 [00:09<00:00,  1.30s/it]"
     ]
    },
    {
     "name": "stdout",
     "output_type": "stream",
     "text": [
      "                   all        100      19600    0.00633     0.0154    0.00391    0.00365\n"
     ]
    },
    {
     "name": "stderr",
     "output_type": "stream",
     "text": [
      "\n"
     ]
    },
    {
     "name": "stdout",
     "output_type": "stream",
     "text": [
      "\n",
      "      Epoch    GPU_mem   box_loss   cls_loss   dfl_loss  Instances       Size\n"
     ]
    },
    {
     "name": "stderr",
     "output_type": "stream",
     "text": [
      "     85/100      4.54G     0.6843      3.487     0.9697       1746        640: 100%|██████████| 100/100 [00:26<00:00,  3.75it/s]\n",
      "                 Class     Images  Instances      Box(P          R      mAP50  mAP50-95): 100%|██████████| 7/7 [00:09<00:00,  1.31s/it]"
     ]
    },
    {
     "name": "stdout",
     "output_type": "stream",
     "text": [
      "                   all        100      19600    0.00609     0.0152    0.00377    0.00347\n"
     ]
    },
    {
     "name": "stderr",
     "output_type": "stream",
     "text": [
      "\n"
     ]
    },
    {
     "name": "stdout",
     "output_type": "stream",
     "text": [
      "\n",
      "      Epoch    GPU_mem   box_loss   cls_loss   dfl_loss  Instances       Size\n"
     ]
    },
    {
     "name": "stderr",
     "output_type": "stream",
     "text": [
      "     86/100      5.69G     0.6743      3.477     0.9576       2506        640: 100%|██████████| 100/100 [00:26<00:00,  3.73it/s]\n",
      "                 Class     Images  Instances      Box(P          R      mAP50  mAP50-95): 100%|██████████| 7/7 [00:09<00:00,  1.31s/it]"
     ]
    },
    {
     "name": "stdout",
     "output_type": "stream",
     "text": [
      "                   all        100      19600    0.00621     0.0156    0.00389    0.00361\n"
     ]
    },
    {
     "name": "stderr",
     "output_type": "stream",
     "text": [
      "\n"
     ]
    },
    {
     "name": "stdout",
     "output_type": "stream",
     "text": [
      "\n",
      "      Epoch    GPU_mem   box_loss   cls_loss   dfl_loss  Instances       Size\n"
     ]
    },
    {
     "name": "stderr",
     "output_type": "stream",
     "text": [
      "     87/100      3.92G     0.7155      3.493      0.966       1893        640: 100%|██████████| 100/100 [00:27<00:00,  3.70it/s]\n",
      "                 Class     Images  Instances      Box(P          R      mAP50  mAP50-95): 100%|██████████| 7/7 [00:09<00:00,  1.29s/it]"
     ]
    },
    {
     "name": "stdout",
     "output_type": "stream",
     "text": [
      "                   all        100      19600    0.00635     0.0161    0.00394    0.00367\n"
     ]
    },
    {
     "name": "stderr",
     "output_type": "stream",
     "text": [
      "\n"
     ]
    },
    {
     "name": "stdout",
     "output_type": "stream",
     "text": [
      "\n",
      "      Epoch    GPU_mem   box_loss   cls_loss   dfl_loss  Instances       Size\n"
     ]
    },
    {
     "name": "stderr",
     "output_type": "stream",
     "text": [
      "     88/100      4.73G     0.6999      3.487     0.9643       1855        640: 100%|██████████| 100/100 [00:26<00:00,  3.72it/s]\n",
      "                 Class     Images  Instances      Box(P          R      mAP50  mAP50-95): 100%|██████████| 7/7 [00:09<00:00,  1.30s/it]"
     ]
    },
    {
     "name": "stdout",
     "output_type": "stream",
     "text": [
      "                   all        100      19600    0.00669     0.0158    0.00412    0.00381\n"
     ]
    },
    {
     "name": "stderr",
     "output_type": "stream",
     "text": [
      "\n"
     ]
    },
    {
     "name": "stdout",
     "output_type": "stream",
     "text": [
      "\n",
      "      Epoch    GPU_mem   box_loss   cls_loss   dfl_loss  Instances       Size\n"
     ]
    },
    {
     "name": "stderr",
     "output_type": "stream",
     "text": [
      "     89/100      4.34G     0.7038      3.486      0.961       2783        640: 100%|██████████| 100/100 [00:27<00:00,  3.69it/s]\n",
      "                 Class     Images  Instances      Box(P          R      mAP50  mAP50-95): 100%|██████████| 7/7 [00:09<00:00,  1.29s/it]"
     ]
    },
    {
     "name": "stdout",
     "output_type": "stream",
     "text": [
      "                   all        100      19600    0.00683     0.0164    0.00426    0.00396\n"
     ]
    },
    {
     "name": "stderr",
     "output_type": "stream",
     "text": [
      "\n"
     ]
    },
    {
     "name": "stdout",
     "output_type": "stream",
     "text": [
      "\n",
      "      Epoch    GPU_mem   box_loss   cls_loss   dfl_loss  Instances       Size\n"
     ]
    },
    {
     "name": "stderr",
     "output_type": "stream",
     "text": [
      "     90/100      6.96G     0.6979      3.484     0.9597       2635        640: 100%|██████████| 100/100 [00:27<00:00,  3.67it/s]\n",
      "                 Class     Images  Instances      Box(P          R      mAP50  mAP50-95): 100%|██████████| 7/7 [00:09<00:00,  1.30s/it]"
     ]
    },
    {
     "name": "stdout",
     "output_type": "stream",
     "text": [
      "                   all        100      19600    0.00684     0.0168    0.00422    0.00389\n"
     ]
    },
    {
     "name": "stderr",
     "output_type": "stream",
     "text": [
      "\n"
     ]
    },
    {
     "name": "stdout",
     "output_type": "stream",
     "text": [
      "Closing dataloader mosaic\n",
      "\n",
      "      Epoch    GPU_mem   box_loss   cls_loss   dfl_loss  Instances       Size\n"
     ]
    },
    {
     "name": "stderr",
     "output_type": "stream",
     "text": [
      "     91/100      1.95G     0.6198      3.551       1.02       1527        640: 100%|██████████| 100/100 [00:22<00:00,  4.38it/s]\n",
      "                 Class     Images  Instances      Box(P          R      mAP50  mAP50-95): 100%|██████████| 7/7 [00:09<00:00,  1.29s/it]"
     ]
    },
    {
     "name": "stdout",
     "output_type": "stream",
     "text": [
      "                   all        100      19600    0.00647     0.0136    0.00375    0.00344\n"
     ]
    },
    {
     "name": "stderr",
     "output_type": "stream",
     "text": [
      "\n"
     ]
    },
    {
     "name": "stdout",
     "output_type": "stream",
     "text": [
      "\n",
      "      Epoch    GPU_mem   box_loss   cls_loss   dfl_loss  Instances       Size\n"
     ]
    },
    {
     "name": "stderr",
     "output_type": "stream",
     "text": [
      "     92/100      1.95G     0.6209      3.548      1.024       1554        640: 100%|██████████| 100/100 [00:22<00:00,  4.46it/s]\n",
      "                 Class     Images  Instances      Box(P          R      mAP50  mAP50-95): 100%|██████████| 7/7 [00:08<00:00,  1.28s/it]"
     ]
    },
    {
     "name": "stdout",
     "output_type": "stream",
     "text": [
      "                   all        100      19600    0.00689     0.0133    0.00388    0.00352\n"
     ]
    },
    {
     "name": "stderr",
     "output_type": "stream",
     "text": [
      "\n"
     ]
    },
    {
     "name": "stdout",
     "output_type": "stream",
     "text": [
      "\n",
      "      Epoch    GPU_mem   box_loss   cls_loss   dfl_loss  Instances       Size\n"
     ]
    },
    {
     "name": "stderr",
     "output_type": "stream",
     "text": [
      "     93/100      1.95G     0.6067       3.54      1.023       1540        640: 100%|██████████| 100/100 [00:22<00:00,  4.44it/s]\n",
      "                 Class     Images  Instances      Box(P          R      mAP50  mAP50-95): 100%|██████████| 7/7 [00:08<00:00,  1.28s/it]"
     ]
    },
    {
     "name": "stdout",
     "output_type": "stream",
     "text": [
      "                   all        100      19600    0.00543     0.0133     0.0031    0.00288\n"
     ]
    },
    {
     "name": "stderr",
     "output_type": "stream",
     "text": [
      "\n"
     ]
    },
    {
     "name": "stdout",
     "output_type": "stream",
     "text": [
      "\n",
      "      Epoch    GPU_mem   box_loss   cls_loss   dfl_loss  Instances       Size\n"
     ]
    },
    {
     "name": "stderr",
     "output_type": "stream",
     "text": [
      "     94/100      1.95G     0.6043      3.539      1.024       1541        640: 100%|██████████| 100/100 [00:22<00:00,  4.47it/s]\n",
      "                 Class     Images  Instances      Box(P          R      mAP50  mAP50-95): 100%|██████████| 7/7 [00:08<00:00,  1.21s/it]"
     ]
    },
    {
     "name": "stdout",
     "output_type": "stream",
     "text": [
      "                   all        100      19600    0.00603     0.0139    0.00344    0.00317\n"
     ]
    },
    {
     "name": "stderr",
     "output_type": "stream",
     "text": [
      "\n"
     ]
    },
    {
     "name": "stdout",
     "output_type": "stream",
     "text": [
      "\n",
      "      Epoch    GPU_mem   box_loss   cls_loss   dfl_loss  Instances       Size\n"
     ]
    },
    {
     "name": "stderr",
     "output_type": "stream",
     "text": [
      "     95/100      1.95G     0.5754      3.513     0.9979       1568        640: 100%|██████████| 100/100 [00:23<00:00,  4.32it/s]\n",
      "                 Class     Images  Instances      Box(P          R      mAP50  mAP50-95): 100%|██████████| 7/7 [00:08<00:00,  1.27s/it]"
     ]
    },
    {
     "name": "stdout",
     "output_type": "stream",
     "text": [
      "                   all        100      19600    0.00603      0.014    0.00346    0.00316\n"
     ]
    },
    {
     "name": "stderr",
     "output_type": "stream",
     "text": [
      "\n"
     ]
    },
    {
     "name": "stdout",
     "output_type": "stream",
     "text": [
      "\n",
      "      Epoch    GPU_mem   box_loss   cls_loss   dfl_loss  Instances       Size\n"
     ]
    },
    {
     "name": "stderr",
     "output_type": "stream",
     "text": [
      "     96/100      1.95G     0.6025      3.531      1.016       1554        640: 100%|██████████| 100/100 [00:22<00:00,  4.52it/s]\n",
      "                 Class     Images  Instances      Box(P          R      mAP50  mAP50-95): 100%|██████████| 7/7 [00:08<00:00,  1.28s/it]"
     ]
    },
    {
     "name": "stdout",
     "output_type": "stream",
     "text": [
      "                   all        100      19600    0.00596     0.0142    0.00342    0.00316\n"
     ]
    },
    {
     "name": "stderr",
     "output_type": "stream",
     "text": [
      "\n"
     ]
    },
    {
     "name": "stdout",
     "output_type": "stream",
     "text": [
      "\n",
      "      Epoch    GPU_mem   box_loss   cls_loss   dfl_loss  Instances       Size\n"
     ]
    },
    {
     "name": "stderr",
     "output_type": "stream",
     "text": [
      "     97/100      1.95G     0.6007      3.533      1.013       1568        640: 100%|██████████| 100/100 [00:22<00:00,  4.47it/s]\n",
      "                 Class     Images  Instances      Box(P          R      mAP50  mAP50-95): 100%|██████████| 7/7 [00:09<00:00,  1.32s/it]"
     ]
    },
    {
     "name": "stdout",
     "output_type": "stream",
     "text": [
      "                   all        100      19600    0.00593     0.0145    0.00341    0.00314\n"
     ]
    },
    {
     "name": "stderr",
     "output_type": "stream",
     "text": [
      "\n"
     ]
    },
    {
     "name": "stdout",
     "output_type": "stream",
     "text": [
      "\n",
      "      Epoch    GPU_mem   box_loss   cls_loss   dfl_loss  Instances       Size\n"
     ]
    },
    {
     "name": "stderr",
     "output_type": "stream",
     "text": [
      "     98/100      1.95G      0.587      3.532      1.009       1514        640: 100%|██████████| 100/100 [00:23<00:00,  4.33it/s]\n",
      "                 Class     Images  Instances      Box(P          R      mAP50  mAP50-95): 100%|██████████| 7/7 [00:09<00:00,  1.30s/it]"
     ]
    },
    {
     "name": "stdout",
     "output_type": "stream",
     "text": [
      "                   all        100      19600    0.00663     0.0145    0.00373    0.00345\n"
     ]
    },
    {
     "name": "stderr",
     "output_type": "stream",
     "text": [
      "\n"
     ]
    },
    {
     "name": "stdout",
     "output_type": "stream",
     "text": [
      "\n",
      "      Epoch    GPU_mem   box_loss   cls_loss   dfl_loss  Instances       Size\n"
     ]
    },
    {
     "name": "stderr",
     "output_type": "stream",
     "text": [
      "     99/100      1.95G     0.5931      3.537      1.023       1554        640: 100%|██████████| 100/100 [00:22<00:00,  4.39it/s]\n",
      "                 Class     Images  Instances      Box(P          R      mAP50  mAP50-95): 100%|██████████| 7/7 [00:09<00:00,  1.31s/it]"
     ]
    },
    {
     "name": "stdout",
     "output_type": "stream",
     "text": [
      "                   all        100      19600     0.0105     0.0137    0.00572    0.00522\n"
     ]
    },
    {
     "name": "stderr",
     "output_type": "stream",
     "text": [
      "\n"
     ]
    },
    {
     "name": "stdout",
     "output_type": "stream",
     "text": [
      "\n",
      "      Epoch    GPU_mem   box_loss   cls_loss   dfl_loss  Instances       Size\n"
     ]
    },
    {
     "name": "stderr",
     "output_type": "stream",
     "text": [
      "    100/100      1.95G       0.57      3.522      1.007       1568        640: 100%|██████████| 100/100 [00:22<00:00,  4.37it/s]\n",
      "                 Class     Images  Instances      Box(P          R      mAP50  mAP50-95): 100%|██████████| 7/7 [00:09<00:00,  1.32s/it]"
     ]
    },
    {
     "name": "stdout",
     "output_type": "stream",
     "text": [
      "                   all        100      19600    0.00591     0.0139    0.00341    0.00316\n"
     ]
    },
    {
     "name": "stderr",
     "output_type": "stream",
     "text": [
      "\n"
     ]
    },
    {
     "name": "stdout",
     "output_type": "stream",
     "text": [
      "\n",
      "100 epochs completed in 0.914 hours.\n",
      "Optimizer stripped from c:\\Users\\aidan\\OneDrive\\Desktop\\itu\\msc\\courses\\sem4\\thesis\\msc-thesis\\yolo\\runs\\detect\\train3\\weights\\last.pt, 5.7MB\n",
      "Optimizer stripped from c:\\Users\\aidan\\OneDrive\\Desktop\\itu\\msc\\courses\\sem4\\thesis\\msc-thesis\\yolo\\runs\\detect\\train3\\weights\\best.pt, 5.7MB\n",
      "\n",
      "Validating c:\\Users\\aidan\\OneDrive\\Desktop\\itu\\msc\\courses\\sem4\\thesis\\msc-thesis\\yolo\\runs\\detect\\train3\\weights\\best.pt...\n",
      "Ultralytics 8.3.75  Python-3.9.21 torch-2.6.0+cu118 CUDA:0 (NVIDIA GeForce RTX 2070, 8192MiB)\n",
      "YOLO11n summary (fused): 238 layers, 2,676,676 parameters, 0 gradients, 6.8 GFLOPs\n"
     ]
    },
    {
     "name": "stderr",
     "output_type": "stream",
     "text": [
      "                 Class     Images  Instances      Box(P          R      mAP50  mAP50-95): 100%|██████████| 7/7 [00:11<00:00,  1.63s/it]\n"
     ]
    },
    {
     "name": "stdout",
     "output_type": "stream",
     "text": [
      "                   all        100      19600     0.0109     0.0133     0.0061    0.00561\n",
      "               class_0        100        100          0          0          0          0\n",
      "               class_1        100        100          0          0          0          0\n",
      "               class_2        100        100          0          0          0          0\n",
      "               class_3        100        100    0.00512       0.02    0.00264    0.00237\n",
      "               class_4        100        100          0          0          0          0\n",
      "               class_5        100        100     0.0326       0.11     0.0215     0.0183\n",
      "               class_6        100        100          0          0          0          0\n",
      "               class_7        100        100          0          0          0          0\n",
      "               class_8        100        100     0.0128       0.17    0.00768    0.00711\n",
      "               class_9        100        100          0          0          0          0\n",
      "              class_10        100        100    0.00135       0.01   0.000684   0.000615\n",
      "              class_11        100        100          0          0          0          0\n",
      "              class_12        100        100          0          0          0          0\n",
      "              class_13        100        100          0          0          0          0\n",
      "              class_14        100        100          0          0          0          0\n",
      "              class_15        100        100          0          0          0          0\n",
      "              class_16        100        100          0          0          0          0\n",
      "              class_17        100        100          0          0          0          0\n",
      "              class_18        100        100          0          0          0          0\n",
      "              class_19        100        100     0.0119       0.14    0.00904    0.00887\n",
      "              class_20        100        100          0          0          0          0\n",
      "              class_21        100        100          0          0          0          0\n",
      "              class_22        100        100          0          0          0          0\n",
      "              class_23        100        100          0          0          0          0\n",
      "              class_24        100        100    0.00543       0.01    0.00277     0.0025\n",
      "              class_25        100        100    0.00733       0.05    0.00406    0.00398\n",
      "              class_26        100        100          0          0          0          0\n",
      "              class_27        100        100    0.00299       0.01    0.00152    0.00136\n",
      "              class_28        100        100          0          0          0          0\n",
      "              class_29        100        100          0          0          0          0\n",
      "              class_30        100        100      0.025       0.01     0.0126     0.0114\n",
      "              class_31        100        100          0          0          0          0\n",
      "              class_32        100        100          0          0          0          0\n",
      "              class_33        100        100          0          0          0          0\n",
      "              class_34        100        100          0          0          0          0\n",
      "              class_35        100        100          0          0          0          0\n",
      "              class_36        100        100          0          0          0          0\n",
      "              class_37        100        100      0.167       0.02     0.0915     0.0915\n",
      "              class_38        100        100          0          0          0          0\n",
      "              class_39        100        100    0.00399        0.1    0.00225    0.00223\n",
      "              class_40        100        100          0          0          0          0\n",
      "              class_41        100        100          0          0          0          0\n",
      "              class_42        100        100          0          0          0          0\n",
      "              class_43        100        100          0          0          0          0\n",
      "              class_44        100        100          1       0.01      0.505      0.455\n",
      "              class_45        100        100     0.0556       0.03     0.0291     0.0262\n",
      "              class_46        100        100          0          0          0          0\n",
      "              class_47        100        100    0.00485       0.01    0.00246    0.00222\n",
      "              class_48        100        100          0          0          0          0\n",
      "              class_49        100        100          0          0          0          0\n",
      "              class_50        100        100          0          0          0          0\n",
      "              class_51        100        100          0          0          0          0\n",
      "              class_52        100        100          0          0          0          0\n",
      "              class_53        100        100          0          0          0          0\n",
      "              class_54        100        100          0          0          0          0\n",
      "              class_55        100        100          0          0          0          0\n",
      "              class_56        100        100     0.0202       0.02     0.0104    0.00887\n",
      "              class_57        100        100      0.027       0.01     0.0138     0.0125\n",
      "              class_58        100        100     0.0122       0.01    0.00616    0.00616\n",
      "              class_59        100        100          0          0          0          0\n",
      "              class_60        100        100     0.0112       0.11    0.00631    0.00607\n",
      "              class_61        100        100          0          0          0          0\n",
      "              class_62        100        100          0          0          0          0\n",
      "              class_63        100        100          0          0          0          0\n",
      "              class_64        100        100          0          0          0          0\n",
      "              class_65        100        100          0          0          0          0\n",
      "              class_66        100        100          0          0          0          0\n",
      "              class_67        100        100          0          0          0          0\n",
      "              class_68        100        100     0.0131       0.04     0.0104     0.0097\n",
      "              class_69        100        100          0          0          0          0\n",
      "              class_70        100        100          0          0          0          0\n",
      "              class_71        100        100     0.0455       0.02     0.0232     0.0232\n",
      "              class_72        100        100          0          0          0          0\n",
      "              class_73        100        100    0.00836       0.06    0.00451    0.00451\n",
      "              class_74        100        100          0          0          0          0\n",
      "              class_75        100        100          0          0          0          0\n",
      "              class_76        100        100          0          0          0          0\n",
      "              class_77        100        100          0          0          0          0\n",
      "              class_78        100        100          0          0          0          0\n",
      "              class_79        100        100          0          0          0          0\n",
      "              class_80        100        100          0          0          0          0\n",
      "              class_81        100        100    0.00583       0.03    0.00309    0.00288\n",
      "              class_82        100        100          0          0          0          0\n",
      "              class_83        100        100          0          0          0          0\n",
      "              class_84        100        100          0          0          0          0\n",
      "              class_85        100        100          0          0          0          0\n",
      "              class_86        100        100          0          0          0          0\n",
      "              class_87        100        100          0          0          0          0\n",
      "              class_88        100        100          0          0          0          0\n",
      "              class_89        100        100          0          0          0          0\n",
      "              class_90        100        100          0          0          0          0\n",
      "              class_91        100        100          0          0          0          0\n",
      "              class_92        100        100    0.00557       0.03    0.00302    0.00282\n",
      "              class_93        100        100          0          0          0          0\n",
      "              class_94        100        100          0          0          0          0\n",
      "              class_95        100        100          0          0          0          0\n",
      "              class_96        100        100          0          0          0          0\n",
      "              class_97        100        100          0          0          0          0\n",
      "              class_98        100        100          0          0          0          0\n",
      "              class_99        100        100    0.00597       0.02    0.00307    0.00291\n",
      "             class_100        100        100          0          0          0          0\n",
      "             class_101        100        100     0.0475       0.81     0.0893     0.0829\n",
      "             class_102        100        100          0          0          0          0\n",
      "             class_103        100        100          0          0          0          0\n",
      "             class_104        100        100          0          0          0          0\n",
      "             class_105        100        100     0.0042       0.01    0.00221    0.00221\n",
      "             class_106        100        100          0          0          0          0\n",
      "             class_107        100        100          0          0          0          0\n",
      "             class_108        100        100          0          0          0          0\n",
      "             class_109        100        100          0          0          0          0\n",
      "             class_110        100        100      0.167       0.01     0.0843     0.0759\n",
      "             class_111        100        100          0          0          0          0\n",
      "             class_112        100        100     0.0296       0.06     0.0163     0.0152\n",
      "             class_113        100        100          0          0          0          0\n",
      "             class_114        100        100          0          0          0          0\n",
      "             class_115        100        100          0          0          0          0\n",
      "             class_116        100        100          0          0          0          0\n",
      "             class_117        100        100     0.0128       0.03    0.00667    0.00622\n",
      "             class_118        100        100          0          0          0          0\n",
      "             class_119        100        100          0          0          0          0\n",
      "             class_120        100        100          0          0          0          0\n",
      "             class_121        100        100          0          0          0          0\n",
      "             class_122        100        100          0          0          0          0\n",
      "             class_123        100        100          0          0          0          0\n",
      "             class_124        100        100          0          0          0          0\n",
      "             class_125        100        100          0          0          0          0\n",
      "             class_126        100        100          0          0          0          0\n",
      "             class_127        100        100          0          0          0          0\n",
      "             class_128        100        100          0          0          0          0\n",
      "             class_129        100        100          0          0          0          0\n",
      "             class_130        100        100        0.1       0.02     0.0511     0.0511\n",
      "             class_131        100        100    0.00796       0.13    0.00455    0.00444\n",
      "             class_132        100        100          0          0          0          0\n",
      "             class_133        100        100    0.00978       0.04    0.00519    0.00454\n",
      "             class_134        100        100          0          0          0          0\n",
      "             class_135        100        100          0          0          0          0\n",
      "             class_136        100        100          0          0          0          0\n",
      "             class_137        100        100          0          0          0          0\n",
      "             class_138        100        100          0          0          0          0\n",
      "             class_139        100        100          0          0          0          0\n",
      "             class_140        100        100      0.172        0.1      0.102       0.09\n",
      "             class_141        100        100     0.0284       0.08     0.0161     0.0154\n",
      "             class_142        100        100          0          0          0          0\n",
      "             class_143        100        100          0          0          0          0\n",
      "             class_144        100        100          0          0          0          0\n",
      "             class_145        100        100          0          0          0          0\n",
      "             class_146        100        100          0          0          0          0\n",
      "             class_147        100        100          0          0          0          0\n",
      "             class_148        100        100          0          0          0          0\n",
      "             class_149        100        100          0          0          0          0\n",
      "             class_150        100        100          0          0          0          0\n",
      "             class_151        100        100    0.00269       0.03    0.00141    0.00136\n",
      "             class_152        100        100    0.00396       0.06    0.00216    0.00209\n",
      "             class_153        100        100          0          0          0          0\n",
      "             class_154        100        100          0          0          0          0\n",
      "             class_155        100        100          0          0          0          0\n",
      "             class_156        100        100    0.00559       0.01    0.00284    0.00255\n",
      "             class_157        100        100          0          0          0          0\n",
      "             class_158        100        100          0          0          0          0\n",
      "             class_159        100        100    0.00244       0.02    0.00129    0.00129\n",
      "             class_160        100        100    0.00249       0.01    0.00129    0.00129\n",
      "             class_161        100        100          0          0          0          0\n",
      "             class_162        100        100          0          0          0          0\n",
      "             class_163        100        100          0          0          0          0\n",
      "             class_164        100        100          0          0          0          0\n",
      "             class_165        100        100          0          0          0          0\n",
      "             class_166        100        100          0          0          0          0\n",
      "             class_167        100        100          0          0          0          0\n",
      "             class_168        100        100          0          0          0          0\n",
      "             class_169        100        100          0          0          0          0\n",
      "             class_170        100        100          0          0          0          0\n",
      "             class_171        100        100          0          0          0          0\n",
      "             class_172        100        100          0          0          0          0\n",
      "             class_173        100        100          0          0          0          0\n",
      "             class_174        100        100          0          0          0          0\n",
      "             class_175        100        100          0          0          0          0\n",
      "             class_176        100        100          0          0          0          0\n",
      "             class_177        100        100          0          0          0          0\n",
      "             class_178        100        100     0.0098       0.01    0.00502    0.00502\n",
      "             class_179        100        100          0          0          0          0\n",
      "             class_180        100        100          0          0          0          0\n",
      "             class_181        100        100          0          0          0          0\n",
      "             class_182        100        100     0.0169       0.05     0.0101     0.0099\n",
      "             class_183        100        100          0          0          0          0\n",
      "             class_184        100        100          0          0          0          0\n",
      "             class_185        100        100          0          0          0          0\n",
      "             class_186        100        100    0.00943       0.04      0.005      0.005\n",
      "             class_187        100        100      0.021       0.03     0.0118      0.011\n",
      "             class_188        100        100          0          0          0          0\n",
      "             class_189        100        100          0          0          0          0\n",
      "             class_190        100        100          0          0          0          0\n",
      "             class_191        100        100          0          0          0          0\n",
      "             class_192        100        100          0          0          0          0\n",
      "             class_193        100        100          0          0          0          0\n",
      "             class_194        100        100          0          0          0          0\n",
      "             class_195        100        100          0          0          0          0\n",
      "Speed: 0.4ms preprocess, 4.2ms inference, 0.0ms loss, 88.2ms postprocess per image\n",
      "Results saved to \u001b[1mc:\\Users\\aidan\\OneDrive\\Desktop\\itu\\msc\\courses\\sem4\\thesis\\msc-thesis\\yolo\\runs\\detect\\train3\u001b[0m\n"
     ]
    }
   ],
   "source": [
    "results = model.train(\n",
    "    data=f'{root_dir}\\\\data\\\\yolo_decoding\\\\object_detection\\\\simple_synth\\\\data.yml', # path to yaml file which specifies dataset parameters\n",
    "    epochs=100,\n",
    "    imgsz=640,                                         # image size (default 640 for yolo)\n",
    "    single_cls=False,                                  # multi-class training\n",
    "    patience=0,                                        # early stopping patience (after this many epochs with no improvement stop training)\n",
    "    pretrained=False,                                  # don't use pre-trained weights\n",
    "    plots=True,                                        # create plots\n",
    "\n",
    "    # solving GPU memory issue?\n",
    "    workers=0,                                         # number of worker threads for data loading (0 reduces memory problems at cost of slower training)\n",
    "    batch=8,                                           # batch size (default 16, reducing to 8 can help)\n",
    ")"
   ]
  },
  {
   "cell_type": "code",
   "execution_count": 21,
   "metadata": {},
   "outputs": [],
   "source": [
    "# Super minor cleanup\n",
    "if os.path.exists('yolo11n.pt'):\n",
    "    os.remove('yolo11n.pt')"
   ]
  },
  {
   "cell_type": "markdown",
   "metadata": {},
   "source": [
    "# Evaluating"
   ]
  },
  {
   "cell_type": "code",
   "execution_count": 22,
   "metadata": {},
   "outputs": [],
   "source": [
    "# Loading trained model\n",
    "model = YOLO('../yolo/runs/detect/train3/weights/best.pt', task='detect')"
   ]
  },
  {
   "cell_type": "code",
   "execution_count": 23,
   "metadata": {},
   "outputs": [],
   "source": [
    "# # validation\n",
    "# metrics = model.val()\n",
    "# print(metrics)"
   ]
  },
  {
   "cell_type": "code",
   "execution_count": 24,
   "metadata": {},
   "outputs": [
    {
     "name": "stdout",
     "output_type": "stream",
     "text": [
      "\n",
      "0: 640x640 (no detections), 3.5ms\n",
      "1: 640x640 (no detections), 3.5ms\n",
      "2: 640x640 (no detections), 3.5ms\n",
      "3: 640x640 (no detections), 3.5ms\n",
      "4: 640x640 (no detections), 3.5ms\n",
      "5: 640x640 (no detections), 3.5ms\n",
      "6: 640x640 (no detections), 3.5ms\n",
      "7: 640x640 (no detections), 3.5ms\n",
      "8: 640x640 (no detections), 3.5ms\n",
      "9: 640x640 (no detections), 3.5ms\n",
      "10: 640x640 (no detections), 3.5ms\n",
      "11: 640x640 (no detections), 3.5ms\n",
      "12: 640x640 (no detections), 3.5ms\n",
      "13: 640x640 (no detections), 3.5ms\n",
      "14: 640x640 (no detections), 3.5ms\n",
      "15: 640x640 (no detections), 3.5ms\n",
      "16: 640x640 (no detections), 3.5ms\n",
      "17: 640x640 (no detections), 3.5ms\n",
      "18: 640x640 (no detections), 3.5ms\n",
      "19: 640x640 (no detections), 3.5ms\n",
      "20: 640x640 (no detections), 3.5ms\n",
      "21: 640x640 (no detections), 3.5ms\n",
      "22: 640x640 (no detections), 3.5ms\n",
      "23: 640x640 (no detections), 3.5ms\n",
      "24: 640x640 (no detections), 3.5ms\n",
      "25: 640x640 (no detections), 3.5ms\n",
      "26: 640x640 (no detections), 3.5ms\n",
      "27: 640x640 (no detections), 3.5ms\n",
      "28: 640x640 (no detections), 3.5ms\n",
      "29: 640x640 (no detections), 3.5ms\n",
      "30: 640x640 (no detections), 3.5ms\n",
      "31: 640x640 (no detections), 3.5ms\n",
      "32: 640x640 (no detections), 3.5ms\n",
      "33: 640x640 (no detections), 3.5ms\n",
      "34: 640x640 (no detections), 3.5ms\n",
      "35: 640x640 (no detections), 3.5ms\n",
      "36: 640x640 (no detections), 3.5ms\n",
      "37: 640x640 (no detections), 3.5ms\n",
      "38: 640x640 (no detections), 3.5ms\n",
      "39: 640x640 (no detections), 3.5ms\n",
      "40: 640x640 (no detections), 3.5ms\n",
      "41: 640x640 (no detections), 3.5ms\n",
      "42: 640x640 (no detections), 3.5ms\n",
      "43: 640x640 (no detections), 3.5ms\n",
      "44: 640x640 (no detections), 3.5ms\n",
      "45: 640x640 (no detections), 3.5ms\n",
      "46: 640x640 (no detections), 3.5ms\n",
      "47: 640x640 (no detections), 3.5ms\n",
      "48: 640x640 (no detections), 3.5ms\n",
      "49: 640x640 (no detections), 3.5ms\n",
      "50: 640x640 (no detections), 3.5ms\n",
      "51: 640x640 (no detections), 3.5ms\n",
      "52: 640x640 (no detections), 3.5ms\n",
      "53: 640x640 (no detections), 3.5ms\n",
      "54: 640x640 (no detections), 3.5ms\n",
      "55: 640x640 (no detections), 3.5ms\n",
      "56: 640x640 (no detections), 3.5ms\n",
      "57: 640x640 (no detections), 3.5ms\n",
      "58: 640x640 (no detections), 3.5ms\n",
      "59: 640x640 (no detections), 3.5ms\n",
      "60: 640x640 (no detections), 3.5ms\n",
      "61: 640x640 (no detections), 3.5ms\n",
      "62: 640x640 (no detections), 3.5ms\n",
      "63: 640x640 (no detections), 3.5ms\n",
      "64: 640x640 (no detections), 3.5ms\n",
      "65: 640x640 (no detections), 3.5ms\n",
      "66: 640x640 (no detections), 3.5ms\n",
      "67: 640x640 (no detections), 3.5ms\n",
      "68: 640x640 (no detections), 3.5ms\n",
      "69: 640x640 (no detections), 3.5ms\n",
      "70: 640x640 (no detections), 3.5ms\n",
      "71: 640x640 (no detections), 3.5ms\n",
      "72: 640x640 (no detections), 3.5ms\n",
      "73: 640x640 (no detections), 3.5ms\n",
      "74: 640x640 (no detections), 3.5ms\n",
      "75: 640x640 (no detections), 3.5ms\n",
      "76: 640x640 (no detections), 3.5ms\n",
      "77: 640x640 (no detections), 3.5ms\n",
      "78: 640x640 (no detections), 3.5ms\n",
      "79: 640x640 (no detections), 3.5ms\n",
      "80: 640x640 (no detections), 3.5ms\n",
      "81: 640x640 (no detections), 3.5ms\n",
      "82: 640x640 (no detections), 3.5ms\n",
      "83: 640x640 (no detections), 3.5ms\n",
      "84: 640x640 (no detections), 3.5ms\n",
      "85: 640x640 (no detections), 3.5ms\n",
      "86: 640x640 (no detections), 3.5ms\n",
      "87: 640x640 (no detections), 3.5ms\n",
      "88: 640x640 (no detections), 3.5ms\n",
      "89: 640x640 (no detections), 3.5ms\n",
      "90: 640x640 (no detections), 3.5ms\n",
      "91: 640x640 (no detections), 3.5ms\n",
      "92: 640x640 (no detections), 3.5ms\n",
      "93: 640x640 (no detections), 3.5ms\n",
      "94: 640x640 (no detections), 3.5ms\n",
      "95: 640x640 (no detections), 3.5ms\n",
      "96: 640x640 (no detections), 3.5ms\n",
      "97: 640x640 (no detections), 3.5ms\n",
      "98: 640x640 (no detections), 3.5ms\n",
      "99: 640x640 (no detections), 3.5ms\n",
      "Speed: 3.3ms preprocess, 3.5ms inference, 0.2ms postprocess per image at shape (1, 3, 640, 640)\n"
     ]
    }
   ],
   "source": [
    "# test\n",
    "test_images = os.listdir('../data/yolo_decoding/object_detection/simple_synth/images/test')\n",
    "test_images = [f'../data/yolo_decoding/object_detection/simple_synth/images/test/{x}' for x in test_images]\n",
    "results = model(test_images)"
   ]
  },
  {
   "cell_type": "code",
   "execution_count": 25,
   "metadata": {},
   "outputs": [],
   "source": [
    "for result in results:\n",
    "    boxes = result.boxes\n",
    "    keypoints = result.keypoints\n",
    "    result.show()\n",
    "    break"
   ]
  }
 ],
 "metadata": {
  "kernelspec": {
   "display_name": "msc_thesis",
   "language": "python",
   "name": "python3"
  },
  "language_info": {
   "codemirror_mode": {
    "name": "ipython",
    "version": 3
   },
   "file_extension": ".py",
   "mimetype": "text/x-python",
   "name": "python",
   "nbconvert_exporter": "python",
   "pygments_lexer": "ipython3",
   "version": "3.9.21"
  }
 },
 "nbformat": 4,
 "nbformat_minor": 2
}
